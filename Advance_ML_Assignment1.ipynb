{
  "nbformat": 4,
  "nbformat_minor": 0,
  "metadata": {
    "colab": {
      "name": "Advance_ML_Assignment1.ipynb",
      "provenance": [],
      "collapsed_sections": [],
      "authorship_tag": "ABX9TyODKXc1H9LpLnZ1rupdHgLo",
      "include_colab_link": true
    },
    "kernelspec": {
      "name": "python3",
      "display_name": "Python 3"
    }
  },
  "cells": [
    {
      "cell_type": "markdown",
      "metadata": {
        "id": "view-in-github",
        "colab_type": "text"
      },
      "source": [
        "<a href=\"https://colab.research.google.com/github/khushbooyadav6591/Hello-World/blob/master/Advance_ML_Assignment1.ipynb\" target=\"_parent\"><img src=\"https://colab.research.google.com/assets/colab-badge.svg\" alt=\"Open In Colab\"/></a>"
      ]
    },
    {
      "cell_type": "markdown",
      "metadata": {
        "id": "vG18wfdbuHeO"
      },
      "source": [
        "Purpose\n",
        "The purpose of this assignment is to explore and extend your first Neural Network model.\n",
        "Directions\n",
        "In this assignment, you will accomplish the following:\n",
        "1. Modify an existing neural network model to improve performance\n",
        "2. Explain how different approaches affect the performance of the model\n",
        "For the IMDB example that we discussed in class, do the following:\n",
        "1. You used two hidden layers. Try using one or three hidden layers, and see how doing so\n",
        "affects validation and test accuracy.\n",
        "2. Try using layers with more hidden units or fewer hidden units: 32 units, 64 units, and so\n",
        "on.\n",
        "3. Try using the mse loss function instead of binary_crossentropy.\n",
        "4. Try using the tanh activation (an activation that was popular in the early days of neural\n",
        "networks) instead of relu.\n",
        "5. Use any technique we studied in class, and these include regularization, dropout, etc., to\n",
        "get your model to perform better on validation."
      ]
    },
    {
      "cell_type": "code",
      "metadata": {
        "id": "dS2lPr9CuR6m"
      },
      "source": [
        "import keras\n",
        "keras.__version__\n",
        "import pandas as pd\n",
        "import matplotlib.pyplot as plt # plotting\n",
        "\n"
      ],
      "execution_count": 2,
      "outputs": []
    },
    {
      "cell_type": "code",
      "metadata": {
        "id": "U1xes8p0vGd4"
      },
      "source": [
        "from keras.datasets import imdb\n"
      ],
      "execution_count": 3,
      "outputs": []
    },
    {
      "cell_type": "code",
      "metadata": {
        "colab": {
          "base_uri": "https://localhost:8080/"
        },
        "id": "BlplwVj8uuLi",
        "outputId": "4904bbdc-d6de-42cf-9d38-f6d55b98b833"
      },
      "source": [
        "(train_data,train_labels),(test_data,test_labels)=imdb.load_data(num_words=10000)"
      ],
      "execution_count": 4,
      "outputs": [
        {
          "output_type": "stream",
          "text": [
            "Downloading data from https://storage.googleapis.com/tensorflow/tf-keras-datasets/imdb.npz\n",
            "17465344/17464789 [==============================] - 0s 0us/step\n"
          ],
          "name": "stdout"
        },
        {
          "output_type": "stream",
          "text": [
            "<string>:6: VisibleDeprecationWarning: Creating an ndarray from ragged nested sequences (which is a list-or-tuple of lists-or-tuples-or ndarrays with different lengths or shapes) is deprecated. If you meant to do this, you must specify 'dtype=object' when creating the ndarray\n",
            "/usr/local/lib/python3.6/dist-packages/tensorflow/python/keras/datasets/imdb.py:159: VisibleDeprecationWarning: Creating an ndarray from ragged nested sequences (which is a list-or-tuple of lists-or-tuples-or ndarrays with different lengths or shapes) is deprecated. If you meant to do this, you must specify 'dtype=object' when creating the ndarray\n",
            "  x_train, y_train = np.array(xs[:idx]), np.array(labels[:idx])\n",
            "/usr/local/lib/python3.6/dist-packages/tensorflow/python/keras/datasets/imdb.py:160: VisibleDeprecationWarning: Creating an ndarray from ragged nested sequences (which is a list-or-tuple of lists-or-tuples-or ndarrays with different lengths or shapes) is deprecated. If you meant to do this, you must specify 'dtype=object' when creating the ndarray\n",
            "  x_test, y_test = np.array(xs[idx:]), np.array(labels[idx:])\n"
          ],
          "name": "stderr"
        }
      ]
    },
    {
      "cell_type": "code",
      "metadata": {
        "colab": {
          "base_uri": "https://localhost:8080/"
        },
        "id": "9MN0KBDbvsGG",
        "outputId": "c05ea22a-b809-43a8-87c0-3673f48c6452"
      },
      "source": [
        "train_data[0]\n",
        "train_labels[0]\n",
        "max([max(sequence) for sequence in train_data])\n",
        "\n",
        "# word_index is a dictionary mapping words to an integer index\n",
        "word_index = imdb.get_word_index()\n",
        "# We reverse it, mapping integer indices to words\n",
        "reverse_word_index = dict([(value, key) for (key, value) in word_index.items()])\n",
        "# We decode the review; note that our indices were offset by 3\n",
        "# because 0, 1 and 2 are reserved indices for \"padding\", \"start of sequence\", and \"unknown\".\n",
        "decoded_review = ' '.join([reverse_word_index.get(i - 3, '?') for i in train_data[0]])\n",
        "\n",
        "import numpy as np\n",
        "\n",
        "def vectorize_sequences(sequences, dimension=10000):\n",
        "    # Create an all-zero matrix of shape (len(sequences), dimension)\n",
        "    results = np.zeros((len(sequences), dimension))\n",
        "    for i, sequence in enumerate(sequences):\n",
        "        results[i, sequence] = 1.  # set specific indices of results[i] to 1s\n",
        "    return results\n",
        "\n",
        "# Our vectorized training data\n",
        "x_train = vectorize_sequences(train_data)\n",
        "# Our vectorized test data\n",
        "x_test = vectorize_sequences(test_data)\n",
        "\n",
        "# Our vectorized labels\n",
        "y_train = np.asarray(train_labels).astype('float32')\n",
        "y_test = np.asarray(test_labels).astype('float32')"
      ],
      "execution_count": 5,
      "outputs": [
        {
          "output_type": "stream",
          "text": [
            "Downloading data from https://storage.googleapis.com/tensorflow/tf-keras-datasets/imdb_word_index.json\n",
            "1646592/1641221 [==============================] - 0s 0us/step\n"
          ],
          "name": "stdout"
        }
      ]
    },
    {
      "cell_type": "markdown",
      "metadata": {
        "id": "dxfH5gf8w420"
      },
      "source": [
        "Model 1 : Original Model"
      ]
    },
    {
      "cell_type": "code",
      "metadata": {
        "colab": {
          "base_uri": "https://localhost:8080/",
          "height": 1000
        },
        "id": "do6p9r8GpFob",
        "outputId": "537afadf-8d7b-407b-b21c-51ee2b9d43e6"
      },
      "source": [
        "from keras import models\n",
        "from keras import layers\n",
        "\n",
        "model = models.Sequential()\n",
        "model.add(layers.Dense(16, activation='relu', input_shape=(10000,)))\n",
        "model.add(layers.Dense(16, activation='relu'))\n",
        "model.add(layers.Dense(1, activation='sigmoid'))\n",
        "\n",
        "model.summary()\n",
        "\n",
        "model.compile(optimizer='rmsprop',\n",
        "              loss='binary_crossentropy',\n",
        "              metrics=['accuracy'])\n",
        "\n",
        "\n",
        "\n",
        "\n",
        "\n",
        "\n",
        "\n",
        "x_val = x_train[:10000]\n",
        "partial_x_train = x_train[10000:]\n",
        "\n",
        "y_val = y_train[:10000]\n",
        "partial_y_train = y_train[10000:]\n",
        "\n",
        "history = model.fit(partial_x_train,\n",
        "                    partial_y_train,\n",
        "                    epochs=20,\n",
        "                    batch_size=512,\n",
        "                    validation_data=(x_val, y_val))\n",
        "\n",
        "history_dict = history.history\n",
        "history_dict.keys()\n",
        "\n",
        "\n",
        "import matplotlib.pyplot as plt\n",
        "\n",
        "accuracy = history.history['accuracy']\n",
        "val_accuracy = history.history['val_accuracy']\n",
        "loss = history.history['loss']\n",
        "val_loss = history.history['val_loss']\n",
        "\n",
        "epochs = range(1, len(accuracy) + 1)\n",
        "\n",
        "# \"bo\" is for \"blue dot\"\n",
        "plt.plot(epochs, loss, 'bo', label='Training loss')\n",
        "# b is for \"solid blue line\"\n",
        "plt.plot(epochs, val_loss, 'b', label='Validation loss')\n",
        "plt.title('Training and validation loss')\n",
        "plt.xlabel('Epochs')\n",
        "plt.ylabel('Loss')\n",
        "plt.legend()\n",
        "\n",
        "plt.show()\n",
        "\n",
        "plt.clf()   # clear figure\n",
        "acc_values = history_dict['accuracy']\n",
        "val_acc_values = history_dict['val_accuracy']\n",
        "\n",
        "plt.plot(epochs, accuracy, 'bo', label='Training acc')\n",
        "plt.plot(epochs, val_accuracy, 'b', label='Validation acc')\n",
        "plt.title('Training and validation accuracy')\n",
        "plt.xlabel('Epochs')\n",
        "plt.ylabel('Loss')\n",
        "plt.legend()\n",
        "\n",
        "plt.show()\n",
        "\n",
        "model = models.Sequential()\n",
        "model.add(layers.Dense(16, activation='relu', input_shape=(10000,)))\n",
        "model.add(layers.Dense(16, activation='relu'))\n",
        "model.add(layers.Dense(1, activation='sigmoid'))\n",
        "\n",
        "model.compile(optimizer='rmsprop',\n",
        "              loss='binary_crossentropy',\n",
        "              metrics=['accuracy'])\n",
        "\n",
        "model.fit(x_train, y_train, epochs=4, batch_size=512)\n",
        "results = model.evaluate(x_test, y_test)\n",
        "\n",
        "results\n",
        "\n",
        "model.predict(x_test)\n"
      ],
      "execution_count": 8,
      "outputs": [
        {
          "output_type": "stream",
          "text": [
            "Model: \"sequential_3\"\n",
            "_________________________________________________________________\n",
            "Layer (type)                 Output Shape              Param #   \n",
            "=================================================================\n",
            "dense_9 (Dense)              (None, 16)                160016    \n",
            "_________________________________________________________________\n",
            "dense_10 (Dense)             (None, 16)                272       \n",
            "_________________________________________________________________\n",
            "dense_11 (Dense)             (None, 1)                 17        \n",
            "=================================================================\n",
            "Total params: 160,305\n",
            "Trainable params: 160,305\n",
            "Non-trainable params: 0\n",
            "_________________________________________________________________\n",
            "Epoch 1/20\n",
            "30/30 [==============================] - 2s 49ms/step - loss: 0.6004 - accuracy: 0.7005 - val_loss: 0.3913 - val_accuracy: 0.8681\n",
            "Epoch 2/20\n",
            "30/30 [==============================] - 1s 40ms/step - loss: 0.3247 - accuracy: 0.9052 - val_loss: 0.3082 - val_accuracy: 0.8838\n",
            "Epoch 3/20\n",
            "30/30 [==============================] - 1s 41ms/step - loss: 0.2305 - accuracy: 0.9266 - val_loss: 0.3229 - val_accuracy: 0.8679\n",
            "Epoch 4/20\n",
            "30/30 [==============================] - 1s 41ms/step - loss: 0.1822 - accuracy: 0.9437 - val_loss: 0.2794 - val_accuracy: 0.8858\n",
            "Epoch 5/20\n",
            "30/30 [==============================] - 1s 41ms/step - loss: 0.1436 - accuracy: 0.9537 - val_loss: 0.2784 - val_accuracy: 0.8870\n",
            "Epoch 6/20\n",
            "30/30 [==============================] - 1s 41ms/step - loss: 0.1177 - accuracy: 0.9659 - val_loss: 0.2886 - val_accuracy: 0.8870\n",
            "Epoch 7/20\n",
            "30/30 [==============================] - 1s 41ms/step - loss: 0.0934 - accuracy: 0.9748 - val_loss: 0.3062 - val_accuracy: 0.8823\n",
            "Epoch 8/20\n",
            "30/30 [==============================] - 1s 41ms/step - loss: 0.0781 - accuracy: 0.9809 - val_loss: 0.3264 - val_accuracy: 0.8817\n",
            "Epoch 9/20\n",
            "30/30 [==============================] - 1s 41ms/step - loss: 0.0668 - accuracy: 0.9844 - val_loss: 0.3553 - val_accuracy: 0.8794\n",
            "Epoch 10/20\n",
            "30/30 [==============================] - 1s 41ms/step - loss: 0.0558 - accuracy: 0.9876 - val_loss: 0.3914 - val_accuracy: 0.8712\n",
            "Epoch 11/20\n",
            "30/30 [==============================] - 1s 40ms/step - loss: 0.0427 - accuracy: 0.9916 - val_loss: 0.4039 - val_accuracy: 0.8747\n",
            "Epoch 12/20\n",
            "30/30 [==============================] - 1s 41ms/step - loss: 0.0340 - accuracy: 0.9938 - val_loss: 0.4266 - val_accuracy: 0.8759\n",
            "Epoch 13/20\n",
            "30/30 [==============================] - 1s 42ms/step - loss: 0.0269 - accuracy: 0.9954 - val_loss: 0.4878 - val_accuracy: 0.8688\n",
            "Epoch 14/20\n",
            "30/30 [==============================] - 1s 41ms/step - loss: 0.0224 - accuracy: 0.9966 - val_loss: 0.4923 - val_accuracy: 0.8724\n",
            "Epoch 15/20\n",
            "30/30 [==============================] - 1s 41ms/step - loss: 0.0182 - accuracy: 0.9976 - val_loss: 0.5225 - val_accuracy: 0.8699\n",
            "Epoch 16/20\n",
            "30/30 [==============================] - 1s 41ms/step - loss: 0.0120 - accuracy: 0.9988 - val_loss: 0.6474 - val_accuracy: 0.8578\n",
            "Epoch 17/20\n",
            "30/30 [==============================] - 1s 42ms/step - loss: 0.0108 - accuracy: 0.9995 - val_loss: 0.5933 - val_accuracy: 0.8687\n",
            "Epoch 18/20\n",
            "30/30 [==============================] - 1s 41ms/step - loss: 0.0081 - accuracy: 0.9991 - val_loss: 0.6156 - val_accuracy: 0.8682\n",
            "Epoch 19/20\n",
            "30/30 [==============================] - 1s 42ms/step - loss: 0.0050 - accuracy: 0.9998 - val_loss: 0.6455 - val_accuracy: 0.8674\n",
            "Epoch 20/20\n",
            "30/30 [==============================] - 1s 41ms/step - loss: 0.0057 - accuracy: 0.9995 - val_loss: 0.6837 - val_accuracy: 0.8663\n"
          ],
          "name": "stdout"
        },
        {
          "output_type": "display_data",
          "data": {
            "image/png": "[encoded data removed]",
            "text/plain": [
              "<Figure size 432x288 with 1 Axes>"
            ]
          },
          "metadata": {
            "tags": [],
            "needs_background": "light"
          }
        },
        {
          "output_type": "display_data",
          "data": {
            "image/png": "[encoded data removed]",
            "text/plain": [
              "<Figure size 432x288 with 1 Axes>"
            ]
          },
          "metadata": {
            "tags": [],
            "needs_background": "light"
          }
        },
        {
          "output_type": "stream",
          "text": [
            "Epoch 1/4\n",
            "49/49 [==============================] - 2s 30ms/step - loss: 0.5299 - accuracy: 0.7638\n",
            "Epoch 2/4\n",
            "49/49 [==============================] - 2s 31ms/step - loss: 0.2686 - accuracy: 0.9097\n",
            "Epoch 3/4\n",
            "49/49 [==============================] - 2s 31ms/step - loss: 0.1978 - accuracy: 0.9303\n",
            "Epoch 4/4\n",
            "49/49 [==============================] - 1s 30ms/step - loss: 0.1629 - accuracy: 0.9429\n",
            "782/782 [==============================] - 2s 2ms/step - loss: 0.2915 - accuracy: 0.8845\n"
          ],
          "name": "stdout"
        },
        {
          "output_type": "execute_result",
          "data": {
            "text/plain": [
              "array([[0.20425084],\n",
              "       [0.99991465],\n",
              "       [0.83947873],\n",
              "       ...,\n",
              "       [0.14093032],\n",
              "       [0.06769601],\n",
              "       [0.56065166]], dtype=float32)"
            ]
          },
          "metadata": {
            "tags": []
          },
          "execution_count": 8
        }
      ]
    },
    {
      "cell_type": "markdown",
      "metadata": {
        "id": "68ZN2c_cxCxa"
      },
      "source": [
        "We were using 2 hidden layers. Try to use 1 or 3 hidden layers and see how it affects validation and test accuracy.\n",
        "\n",
        "model2 = 1 hidden layer,Rest same\n",
        "\n",
        "model3 = 3 hidden layer,Rest same"
      ]
    },
    {
      "cell_type": "code",
      "metadata": {
        "colab": {
          "base_uri": "https://localhost:8080/",
          "height": 1000
        },
        "id": "3L40FOtMjhdK",
        "outputId": "e4ba453c-e3a0-4aa3-e139-0f7603725dfc"
      },
      "source": [
        "\n",
        "#model 2 : 1 hidden layer\n",
        "\n",
        "from keras import models\n",
        "from keras import layers\n",
        "\n",
        "model2 = models.Sequential()\n",
        "model2.add(layers.Dense(16, activation='relu', input_shape=(10000,)))\n",
        "#model2.add(layers.Dense(16, activation='relu'))# removed one hidden layer\n",
        "model2.add(layers.Dense(1, activation='sigmoid'))\n",
        "\n",
        "model2.compile(optimizer='rmsprop',\n",
        "              loss='binary_crossentropy',\n",
        "              metrics=['accuracy'])\n",
        "\n",
        "from keras import optimizers\n",
        "\n",
        "model2.compile(optimizer=optimizers.RMSprop(lr=0.001),\n",
        "              loss='binary_crossentropy',\n",
        "              metrics=['accuracy'])\n",
        "\n",
        "from keras import losses\n",
        "from keras import metrics\n",
        "\n",
        "model2.compile(optimizer=optimizers.RMSprop(lr=0.001),\n",
        "              loss=losses.binary_crossentropy,\n",
        "              metrics=[metrics.binary_accuracy])\n",
        "\n",
        "\n",
        "x_val = x_train[:10000]\n",
        "partial_x_train = x_train[10000:]\n",
        "\n",
        "y_val = y_train[:10000]\n",
        "partial_y_train = y_train[10000:]\n",
        "\n",
        "history = model2.fit(partial_x_train,\n",
        "                    partial_y_train,\n",
        "                    epochs=20,\n",
        "                    batch_size=512,\n",
        "                    validation_data=(x_val, y_val))\n",
        "\n",
        "history_dict = history.history\n",
        "history_dict.keys()\n",
        "\n",
        "\n",
        "import matplotlib.pyplot as plt\n",
        "\n",
        "binary_accuracy = history.history['binary_accuracy']\n",
        "val_binary_accuracy = history.history['val_binary_accuracy']\n",
        "loss = history.history['loss']\n",
        "val_loss = history.history['val_loss']\n",
        "\n",
        "epochs = range(1, len(binary_accuracy) + 1)\n",
        "\n",
        "# \"bo\" is for \"blue dot\"\n",
        "plt.plot(epochs, loss, 'bo', label='Training loss')\n",
        "# b is for \"solid blue line\"\n",
        "plt.plot(epochs, val_loss, 'b', label='Validation loss')\n",
        "plt.title('Training and validation loss')\n",
        "plt.xlabel('Epochs')\n",
        "plt.ylabel('Loss')\n",
        "plt.legend()\n",
        "\n",
        "plt.show()\n",
        "\n",
        "plt.clf()   # clear figure\n",
        "acc_values = history_dict['binary_accuracy']\n",
        "val_acc_values = history_dict['val_binary_accuracy']\n",
        "\n",
        "plt.plot(epochs, binary_accuracy, 'bo', label='Training acc')\n",
        "plt.plot(epochs, val_binary_accuracy, 'b', label='Validation acc')\n",
        "plt.title('Training and validation accuracy')\n",
        "plt.xlabel('Epochs')\n",
        "plt.ylabel('Loss')\n",
        "plt.legend()\n",
        "\n",
        "plt.show()\n",
        "\n",
        "model2 = models.Sequential()\n",
        "model2.add(layers.Dense(16, activation='relu', input_shape=(10000,)))\n",
        "model2.add(layers.Dense(16, activation='relu'))\n",
        "model2.add(layers.Dense(1, activation='sigmoid'))\n",
        "\n",
        "model2.compile(optimizer='rmsprop',\n",
        "              loss='binary_crossentropy',\n",
        "              metrics=['accuracy'])\n",
        "\n",
        "model2.fit(x_train, y_train, epochs=4, batch_size=512)\n",
        "results = model2.evaluate(x_test, y_test)\n",
        "\n",
        "results\n",
        "\n",
        "model2.predict(x_test)\n"
      ],
      "execution_count": null,
      "outputs": [
        {
          "output_type": "stream",
          "text": [
            "Epoch 1/20\n",
            "30/30 [==============================] - 2s 46ms/step - loss: 0.5815 - binary_accuracy: 0.7148 - val_loss: 0.4227 - val_binary_accuracy: 0.8317\n",
            "Epoch 2/20\n",
            "30/30 [==============================] - 1s 35ms/step - loss: 0.3405 - binary_accuracy: 0.8960 - val_loss: 0.3296 - val_binary_accuracy: 0.8794\n",
            "Epoch 3/20\n",
            "30/30 [==============================] - 1s 39ms/step - loss: 0.2582 - binary_accuracy: 0.9220 - val_loss: 0.3005 - val_binary_accuracy: 0.8824\n",
            "Epoch 4/20\n",
            "30/30 [==============================] - 1s 41ms/step - loss: 0.2040 - binary_accuracy: 0.9399 - val_loss: 0.2817 - val_binary_accuracy: 0.8900\n",
            "Epoch 5/20\n",
            "30/30 [==============================] - 1s 35ms/step - loss: 0.1745 - binary_accuracy: 0.9483 - val_loss: 0.2779 - val_binary_accuracy: 0.8873\n",
            "Epoch 6/20\n",
            "30/30 [==============================] - 1s 35ms/step - loss: 0.1477 - binary_accuracy: 0.9593 - val_loss: 0.2773 - val_binary_accuracy: 0.8885\n",
            "Epoch 7/20\n",
            "30/30 [==============================] - 1s 34ms/step - loss: 0.1308 - binary_accuracy: 0.9629 - val_loss: 0.2845 - val_binary_accuracy: 0.8854\n",
            "Epoch 8/20\n",
            "30/30 [==============================] - 1s 36ms/step - loss: 0.1124 - binary_accuracy: 0.9710 - val_loss: 0.2883 - val_binary_accuracy: 0.8855\n",
            "Epoch 9/20\n",
            "30/30 [==============================] - 1s 34ms/step - loss: 0.0999 - binary_accuracy: 0.9747 - val_loss: 0.3058 - val_binary_accuracy: 0.8821\n",
            "Epoch 10/20\n",
            "30/30 [==============================] - 1s 34ms/step - loss: 0.0876 - binary_accuracy: 0.9781 - val_loss: 0.3111 - val_binary_accuracy: 0.8834\n",
            "Epoch 11/20\n",
            "30/30 [==============================] - 1s 35ms/step - loss: 0.0767 - binary_accuracy: 0.9823 - val_loss: 0.3331 - val_binary_accuracy: 0.8788\n",
            "Epoch 12/20\n",
            "30/30 [==============================] - 1s 34ms/step - loss: 0.0661 - binary_accuracy: 0.9860 - val_loss: 0.3340 - val_binary_accuracy: 0.8788\n",
            "Epoch 13/20\n",
            "30/30 [==============================] - 1s 35ms/step - loss: 0.0586 - binary_accuracy: 0.9885 - val_loss: 0.3490 - val_binary_accuracy: 0.8800\n",
            "Epoch 14/20\n",
            "30/30 [==============================] - 1s 35ms/step - loss: 0.0524 - binary_accuracy: 0.9920 - val_loss: 0.3658 - val_binary_accuracy: 0.8763\n",
            "Epoch 15/20\n",
            "30/30 [==============================] - 2s 69ms/step - loss: 0.0470 - binary_accuracy: 0.9906 - val_loss: 0.3795 - val_binary_accuracy: 0.8760\n",
            "Epoch 16/20\n",
            "30/30 [==============================] - 1s 33ms/step - loss: 0.0393 - binary_accuracy: 0.9946 - val_loss: 0.3954 - val_binary_accuracy: 0.8760\n",
            "Epoch 17/20\n",
            "30/30 [==============================] - 1s 43ms/step - loss: 0.0346 - binary_accuracy: 0.9949 - val_loss: 0.4268 - val_binary_accuracy: 0.8743\n",
            "Epoch 18/20\n",
            "30/30 [==============================] - 1s 35ms/step - loss: 0.0318 - binary_accuracy: 0.9959 - val_loss: 0.4383 - val_binary_accuracy: 0.8701\n",
            "Epoch 19/20\n",
            "30/30 [==============================] - 1s 34ms/step - loss: 0.0273 - binary_accuracy: 0.9966 - val_loss: 0.4586 - val_binary_accuracy: 0.8676\n",
            "Epoch 20/20\n",
            "30/30 [==============================] - 1s 33ms/step - loss: 0.0225 - binary_accuracy: 0.9979 - val_loss: 0.4828 - val_binary_accuracy: 0.8722\n"
          ],
          "name": "stdout"
        },
        {
          "output_type": "display_data",
          "data": {
            "image/png": "[encoded data removed]",
            "text/plain": [
              "<Figure size 432x288 with 1 Axes>"
            ]
          },
          "metadata": {
            "tags": [],
            "needs_background": "light"
          }
        },
        {
          "output_type": "display_data",
          "data": {
            "image/png": "[encoded data removed]",
            "text/plain": [
              "<Figure size 432x288 with 1 Axes>"
            ]
          },
          "metadata": {
            "tags": [],
            "needs_background": "light"
          }
        },
        {
          "output_type": "stream",
          "text": [
            "Epoch 1/4\n",
            "49/49 [==============================] - 2s 26ms/step - loss: 0.5768 - accuracy: 0.7209\n",
            "Epoch 2/4\n",
            "49/49 [==============================] - 1s 26ms/step - loss: 0.3097 - accuracy: 0.8991\n",
            "Epoch 3/4\n",
            "49/49 [==============================] - 1s 27ms/step - loss: 0.2152 - accuracy: 0.9301\n",
            "Epoch 4/4\n",
            "49/49 [==============================] - 1s 26ms/step - loss: 0.1742 - accuracy: 0.9427\n",
            "782/782 [==============================] - 2s 3ms/step - loss: 0.2900 - accuracy: 0.8860\n"
          ],
          "name": "stdout"
        },
        {
          "output_type": "execute_result",
          "data": {
            "text/plain": [
              "array([[0.21825367],\n",
              "       [0.9999838 ],\n",
              "       [0.8955395 ],\n",
              "       ...,\n",
              "       [0.1537627 ],\n",
              "       [0.12978917],\n",
              "       [0.6533188 ]], dtype=float32)"
            ]
          },
          "metadata": {
            "tags": []
          },
          "execution_count": 7
        }
      ]
    },
    {
      "cell_type": "code",
      "metadata": {
        "colab": {
          "base_uri": "https://localhost:8080/",
          "height": 1000
        },
        "id": "2nNl0DsBgqSP",
        "outputId": "c1c68c1f-f4e6-4734-a6fb-2813ef1d33a3"
      },
      "source": [
        "\n",
        "#model 3 : 3 layer,rest same\n",
        "from keras import models\n",
        "from keras import layers\n",
        "\n",
        "model3 = models.Sequential()\n",
        "model3.add(layers.Dense(16, activation='relu', input_shape=(10000,)))\n",
        "model3.add(layers.Dense(16, activation='relu'))\n",
        "model3.add(layers.Dense(16, activation='relu'))\n",
        "\n",
        "model3.add(layers.Dense(1, activation='sigmoid'))\n",
        "\n",
        "model3.compile(optimizer='rmsprop',\n",
        "              loss='binary_crossentropy',\n",
        "              metrics=['accuracy'])\n",
        "\n",
        "from keras import optimizers\n",
        "\n",
        "model3.compile(optimizer=optimizers.RMSprop(lr=0.001),\n",
        "              loss='binary_crossentropy',\n",
        "              metrics=['accuracy'])\n",
        "\n",
        "from keras import losses\n",
        "from keras import metrics\n",
        "\n",
        "model3.compile(optimizer=optimizers.RMSprop(lr=0.001),\n",
        "              loss=losses.binary_crossentropy,\n",
        "              metrics=[metrics.binary_accuracy])\n",
        "\n",
        "\n",
        "x_val = x_train[:10000]\n",
        "partial_x_train = x_train[10000:]\n",
        "\n",
        "y_val = y_train[:10000]\n",
        "partial_y_train = y_train[10000:]\n",
        "\n",
        "history = model3.fit(partial_x_train,\n",
        "                    partial_y_train,\n",
        "                    epochs=20,\n",
        "                    batch_size=512,\n",
        "                    validation_data=(x_val, y_val))\n",
        "\n",
        "history_dict = history.history\n",
        "history_dict.keys()\n",
        "\n",
        "\n",
        "import matplotlib.pyplot as plt\n",
        "\n",
        "binary_accuracy = history.history['binary_accuracy']\n",
        "val_binary_accuracy = history.history['val_binary_accuracy']\n",
        "loss = history.history['loss']\n",
        "val_loss = history.history['val_loss']\n",
        "\n",
        "epochs = range(1, len(binary_accuracy) + 1)\n",
        "\n",
        "# \"bo\" is for \"blue dot\"\n",
        "plt.plot(epochs, loss, 'bo', label='Training loss')\n",
        "# b is for \"solid blue line\"\n",
        "plt.plot(epochs, val_loss, 'b', label='Validation loss')\n",
        "plt.title('Training and validation loss')\n",
        "plt.xlabel('Epochs')\n",
        "plt.ylabel('Loss')\n",
        "plt.legend()\n",
        "\n",
        "plt.show()\n",
        "\n",
        "plt.clf()   # clear figure\n",
        "acc_values = history_dict['binary_accuracy']\n",
        "val_acc_values = history_dict['val_binary_accuracy']\n",
        "\n",
        "plt.plot(epochs, binary_accuracy, 'bo', label='Training acc')\n",
        "plt.plot(epochs, val_binary_accuracy, 'b', label='Validation acc')\n",
        "plt.title('Training and validation accuracy')\n",
        "plt.xlabel('Epochs')\n",
        "plt.ylabel('Loss')\n",
        "plt.legend()\n",
        "\n",
        "plt.show()\n",
        "\n",
        "model3 = models.Sequential()\n",
        "model3.add(layers.Dense(16, activation='relu', input_shape=(10000,)))\n",
        "model3.add(layers.Dense(16, activation='relu'))\n",
        "model3.add(layers.Dense(1, activation='sigmoid'))\n",
        "\n",
        "model3.compile(optimizer='rmsprop',\n",
        "              loss='binary_crossentropy',\n",
        "              metrics=['accuracy'])\n",
        "\n",
        "model3.fit(x_train, y_train, epochs=4, batch_size=512)\n",
        "results = model3.evaluate(x_test, y_test)\n",
        "\n",
        "results\n",
        "\n",
        "model3.predict(x_test)\n"
      ],
      "execution_count": null,
      "outputs": [
        {
          "output_type": "stream",
          "text": [
            "Epoch 1/20\n",
            "30/30 [==============================] - 2s 52ms/step - loss: 0.6323 - binary_accuracy: 0.6961 - val_loss: 0.4339 - val_binary_accuracy: 0.8665\n",
            "Epoch 2/20\n",
            "30/30 [==============================] - 1s 37ms/step - loss: 0.3661 - binary_accuracy: 0.8910 - val_loss: 0.3375 - val_binary_accuracy: 0.8674\n",
            "Epoch 3/20\n",
            "30/30 [==============================] - 1s 37ms/step - loss: 0.2434 - binary_accuracy: 0.9223 - val_loss: 0.2843 - val_binary_accuracy: 0.8898\n",
            "Epoch 4/20\n",
            "30/30 [==============================] - 1s 38ms/step - loss: 0.1806 - binary_accuracy: 0.9428 - val_loss: 0.2768 - val_binary_accuracy: 0.8895\n",
            "Epoch 5/20\n",
            "30/30 [==============================] - 1s 38ms/step - loss: 0.1322 - binary_accuracy: 0.9575 - val_loss: 0.2901 - val_binary_accuracy: 0.8875\n",
            "Epoch 6/20\n",
            "30/30 [==============================] - 1s 38ms/step - loss: 0.1021 - binary_accuracy: 0.9706 - val_loss: 0.3903 - val_binary_accuracy: 0.8673\n",
            "Epoch 7/20\n",
            "30/30 [==============================] - 1s 38ms/step - loss: 0.0892 - binary_accuracy: 0.9720 - val_loss: 0.3377 - val_binary_accuracy: 0.8777\n",
            "Epoch 8/20\n",
            "30/30 [==============================] - 1s 38ms/step - loss: 0.0633 - binary_accuracy: 0.9849 - val_loss: 0.3514 - val_binary_accuracy: 0.8798\n",
            "Epoch 9/20\n",
            "30/30 [==============================] - 1s 38ms/step - loss: 0.0490 - binary_accuracy: 0.9891 - val_loss: 0.3862 - val_binary_accuracy: 0.8798\n",
            "Epoch 10/20\n",
            "30/30 [==============================] - 1s 46ms/step - loss: 0.0398 - binary_accuracy: 0.9903 - val_loss: 0.4535 - val_binary_accuracy: 0.8742\n",
            "Epoch 11/20\n",
            "30/30 [==============================] - 1s 41ms/step - loss: 0.0309 - binary_accuracy: 0.9936 - val_loss: 0.4572 - val_binary_accuracy: 0.8771\n",
            "Epoch 12/20\n",
            "30/30 [==============================] - 1s 41ms/step - loss: 0.0223 - binary_accuracy: 0.9953 - val_loss: 0.4838 - val_binary_accuracy: 0.8738\n",
            "Epoch 13/20\n",
            "30/30 [==============================] - 1s 45ms/step - loss: 0.0136 - binary_accuracy: 0.9983 - val_loss: 0.6388 - val_binary_accuracy: 0.8485\n",
            "Epoch 14/20\n",
            "30/30 [==============================] - 1s 38ms/step - loss: 0.0157 - binary_accuracy: 0.9969 - val_loss: 0.5770 - val_binary_accuracy: 0.8734\n",
            "Epoch 15/20\n",
            "30/30 [==============================] - 1s 37ms/step - loss: 0.0107 - binary_accuracy: 0.9980 - val_loss: 0.6023 - val_binary_accuracy: 0.8717\n",
            "Epoch 16/20\n",
            "30/30 [==============================] - 1s 37ms/step - loss: 0.0041 - binary_accuracy: 0.9998 - val_loss: 0.6530 - val_binary_accuracy: 0.8731\n",
            "Epoch 17/20\n",
            "30/30 [==============================] - 1s 38ms/step - loss: 0.0083 - binary_accuracy: 0.9982 - val_loss: 0.6673 - val_binary_accuracy: 0.8696\n",
            "Epoch 18/20\n",
            "30/30 [==============================] - 1s 38ms/step - loss: 0.0021 - binary_accuracy: 0.9999 - val_loss: 0.7061 - val_binary_accuracy: 0.8674\n",
            "Epoch 19/20\n",
            "30/30 [==============================] - 1s 38ms/step - loss: 0.0039 - binary_accuracy: 0.9989 - val_loss: 0.7468 - val_binary_accuracy: 0.8652\n",
            "Epoch 20/20\n",
            "30/30 [==============================] - 1s 43ms/step - loss: 0.0011 - binary_accuracy: 1.0000 - val_loss: 0.7770 - val_binary_accuracy: 0.8632\n"
          ],
          "name": "stdout"
        },
        {
          "output_type": "display_data",
          "data": {
            "image/png": "[encoded data removed]",
            "text/plain": [
              "<Figure size 432x288 with 1 Axes>"
            ]
          },
          "metadata": {
            "tags": [],
            "needs_background": "light"
          }
        },
        {
          "output_type": "display_data",
          "data": {
            "image/png": "[encoded data removed]",
            "text/plain": [
              "<Figure size 432x288 with 1 Axes>"
            ]
          },
          "metadata": {
            "tags": [],
            "needs_background": "light"
          }
        },
        {
          "output_type": "stream",
          "text": [
            "Epoch 1/4\n",
            "49/49 [==============================] - 3s 36ms/step - loss: 0.5483 - accuracy: 0.7528\n",
            "Epoch 2/4\n",
            "49/49 [==============================] - 1s 30ms/step - loss: 0.2846 - accuracy: 0.9019\n",
            "Epoch 3/4\n",
            "49/49 [==============================] - 1s 30ms/step - loss: 0.2031 - accuracy: 0.9299\n",
            "Epoch 4/4\n",
            "49/49 [==============================] - 1s 29ms/step - loss: 0.1679 - accuracy: 0.9443\n",
            "782/782 [==============================] - 2s 3ms/step - loss: 0.2996 - accuracy: 0.8796\n"
          ],
          "name": "stdout"
        },
        {
          "output_type": "execute_result",
          "data": {
            "text/plain": [
              "array([[0.27365634],\n",
              "       [0.99980575],\n",
              "       [0.96717584],\n",
              "       ...,\n",
              "       [0.12172541],\n",
              "       [0.10231891],\n",
              "       [0.7349816 ]], dtype=float32)"
            ]
          },
          "metadata": {
            "tags": []
          },
          "execution_count": 8
        }
      ]
    },
    {
      "cell_type": "code",
      "metadata": {
        "colab": {
          "base_uri": "https://localhost:8080/",
          "height": 1000
        },
        "id": "qtgQiV8oezDI",
        "outputId": "80385e08-7b27-4c55-93b9-26b6c22b6020"
      },
      "source": [
        "#Model 4 = less nodes\n",
        "\n",
        "from keras import models\n",
        "from keras import layers\n",
        "\n",
        "model4 = models.Sequential()\n",
        "model4.add(layers.Dense(8, activation='relu', input_shape=(10000,)))\n",
        "model4.add(layers.Dense(8, activation='relu'))\n",
        "model4.add(layers.Dense(1, activation='sigmoid'))\n",
        "\n",
        "\n",
        "\n",
        "\n",
        "model4.compile(optimizer='rmsprop',\n",
        "              loss='binary_crossentropy',\n",
        "              metrics=['accuracy'])\n",
        "\n",
        "from keras import optimizers\n",
        "\n",
        "model4.compile(optimizer=optimizers.RMSprop(lr=0.001),\n",
        "              loss='binary_crossentropy',\n",
        "              metrics=['accuracy'])\n",
        "\n",
        "from keras import losses\n",
        "from keras import metrics\n",
        "\n",
        "model4.compile(optimizer=optimizers.RMSprop(lr=0.001),\n",
        "              loss=losses.binary_crossentropy,\n",
        "              metrics=[metrics.binary_accuracy])\n",
        "\n",
        "\n",
        "x_val = x_train[:10000]\n",
        "partial_x_train = x_train[10000:]\n",
        "\n",
        "y_val = y_train[:10000]\n",
        "partial_y_train = y_train[10000:]\n",
        "\n",
        "history = model4.fit(partial_x_train,\n",
        "                    partial_y_train,\n",
        "                    epochs=20,\n",
        "                    batch_size=512,\n",
        "                    validation_data=(x_val, y_val))\n",
        "\n",
        "history_dict = history.history\n",
        "history_dict.keys()\n",
        "\n",
        "\n",
        "import matplotlib.pyplot as plt\n",
        "\n",
        "binary_accuracy = history.history['binary_accuracy']\n",
        "val_binary_accuracy = history.history['val_binary_accuracy']\n",
        "loss = history.history['loss']\n",
        "val_loss = history.history['val_loss']\n",
        "\n",
        "epochs = range(1, len(binary_accuracy) + 1)\n",
        "\n",
        "# \"bo\" is for \"blue dot\"\n",
        "plt.plot(epochs, loss, 'bo', label='Training loss')\n",
        "# b is for \"solid blue line\"\n",
        "plt.plot(epochs, val_loss, 'b', label='Validation loss')\n",
        "plt.title('Training and validation loss')\n",
        "plt.xlabel('Epochs')\n",
        "plt.ylabel('Loss')\n",
        "plt.legend()\n",
        "\n",
        "plt.show()\n",
        "\n",
        "plt.clf()   # clear figure\n",
        "acc_values = history_dict['binary_accuracy']\n",
        "val_acc_values = history_dict['val_binary_accuracy']\n",
        "\n",
        "plt.plot(epochs, binary_accuracy, 'bo', label='Training acc')\n",
        "plt.plot(epochs, val_binary_accuracy, 'b', label='Validation acc')\n",
        "plt.title('Training and validation accuracy')\n",
        "plt.xlabel('Epochs')\n",
        "plt.ylabel('Loss')\n",
        "plt.legend()\n",
        "\n",
        "plt.show()\n",
        "\n",
        "model4 = models.Sequential()\n",
        "model4.add(layers.Dense(16, activation='relu', input_shape=(10000,)))\n",
        "model4.add(layers.Dense(16, activation='relu'))\n",
        "model4.add(layers.Dense(1, activation='sigmoid'))\n",
        "\n",
        "model4.compile(optimizer='rmsprop',\n",
        "              loss='binary_crossentropy',\n",
        "              metrics=['accuracy'])\n",
        "\n",
        "model4.fit(x_train, y_train, epochs=4, batch_size=512)\n",
        "results = model4.evaluate(x_test, y_test)\n",
        "\n",
        "results\n",
        "\n",
        "model4.predict(x_test)\n",
        "\n",
        "\n"
      ],
      "execution_count": null,
      "outputs": [
        {
          "output_type": "stream",
          "text": [
            "Epoch 1/20\n",
            "30/30 [==============================] - 2s 52ms/step - loss: 0.6215 - binary_accuracy: 0.6884 - val_loss: 0.4607 - val_binary_accuracy: 0.8482\n",
            "Epoch 2/20\n",
            "30/30 [==============================] - 1s 37ms/step - loss: 0.4012 - binary_accuracy: 0.8875 - val_loss: 0.3560 - val_binary_accuracy: 0.8781\n",
            "Epoch 3/20\n",
            "30/30 [==============================] - 1s 36ms/step - loss: 0.2922 - binary_accuracy: 0.9159 - val_loss: 0.3058 - val_binary_accuracy: 0.8870\n",
            "Epoch 4/20\n",
            "30/30 [==============================] - 1s 45ms/step - loss: 0.2316 - binary_accuracy: 0.9276 - val_loss: 0.3005 - val_binary_accuracy: 0.8805\n",
            "Epoch 5/20\n",
            "30/30 [==============================] - 1s 37ms/step - loss: 0.1935 - binary_accuracy: 0.9419 - val_loss: 0.2797 - val_binary_accuracy: 0.8866\n",
            "Epoch 6/20\n",
            "30/30 [==============================] - 1s 36ms/step - loss: 0.1598 - binary_accuracy: 0.9516 - val_loss: 0.2804 - val_binary_accuracy: 0.8863\n",
            "Epoch 7/20\n",
            "30/30 [==============================] - 1s 43ms/step - loss: 0.1361 - binary_accuracy: 0.9608 - val_loss: 0.2785 - val_binary_accuracy: 0.8870\n",
            "Epoch 8/20\n",
            "30/30 [==============================] - 1s 40ms/step - loss: 0.1184 - binary_accuracy: 0.9658 - val_loss: 0.2901 - val_binary_accuracy: 0.8841\n",
            "Epoch 9/20\n",
            "30/30 [==============================] - 1s 36ms/step - loss: 0.0991 - binary_accuracy: 0.9742 - val_loss: 0.3042 - val_binary_accuracy: 0.8817\n",
            "Epoch 10/20\n",
            "30/30 [==============================] - 1s 35ms/step - loss: 0.0907 - binary_accuracy: 0.9774 - val_loss: 0.3096 - val_binary_accuracy: 0.8837\n",
            "Epoch 11/20\n",
            "30/30 [==============================] - 1s 37ms/step - loss: 0.0775 - binary_accuracy: 0.9799 - val_loss: 0.3278 - val_binary_accuracy: 0.8796\n",
            "Epoch 12/20\n",
            "30/30 [==============================] - 1s 37ms/step - loss: 0.0679 - binary_accuracy: 0.9846 - val_loss: 0.3437 - val_binary_accuracy: 0.8809\n",
            "Epoch 13/20\n",
            "30/30 [==============================] - 1s 36ms/step - loss: 0.0566 - binary_accuracy: 0.9876 - val_loss: 0.3650 - val_binary_accuracy: 0.8763\n",
            "Epoch 14/20\n",
            "30/30 [==============================] - 1s 36ms/step - loss: 0.0497 - binary_accuracy: 0.9897 - val_loss: 0.3979 - val_binary_accuracy: 0.8706\n",
            "Epoch 15/20\n",
            "30/30 [==============================] - 1s 36ms/step - loss: 0.0399 - binary_accuracy: 0.9925 - val_loss: 0.4039 - val_binary_accuracy: 0.8738\n",
            "Epoch 16/20\n",
            "30/30 [==============================] - 1s 37ms/step - loss: 0.0339 - binary_accuracy: 0.9947 - val_loss: 0.4306 - val_binary_accuracy: 0.8755\n",
            "Epoch 17/20\n",
            "30/30 [==============================] - 1s 41ms/step - loss: 0.0311 - binary_accuracy: 0.9940 - val_loss: 0.4522 - val_binary_accuracy: 0.8723\n",
            "Epoch 18/20\n",
            "30/30 [==============================] - 1s 50ms/step - loss: 0.0243 - binary_accuracy: 0.9959 - val_loss: 0.4886 - val_binary_accuracy: 0.8733\n",
            "Epoch 19/20\n",
            "30/30 [==============================] - 1s 38ms/step - loss: 0.0205 - binary_accuracy: 0.9972 - val_loss: 0.5076 - val_binary_accuracy: 0.8700\n",
            "Epoch 20/20\n",
            "30/30 [==============================] - 1s 36ms/step - loss: 0.0171 - binary_accuracy: 0.9982 - val_loss: 0.5375 - val_binary_accuracy: 0.8677\n"
          ],
          "name": "stdout"
        },
        {
          "output_type": "display_data",
          "data": {
            "image/png": "[encoded data removed]",
            "text/plain": [
              "<Figure size 432x288 with 1 Axes>"
            ]
          },
          "metadata": {
            "tags": [],
            "needs_background": "light"
          }
        },
        {
          "output_type": "display_data",
          "data": {
            "image/png": "[encoded data removed]",
            "text/plain": [
              "<Figure size 432x288 with 1 Axes>"
            ]
          },
          "metadata": {
            "tags": [],
            "needs_background": "light"
          }
        },
        {
          "output_type": "stream",
          "text": [
            "Epoch 1/4\n",
            "49/49 [==============================] - 2s 29ms/step - loss: 0.5609 - accuracy: 0.7307\n",
            "Epoch 2/4\n",
            "49/49 [==============================] - 1s 30ms/step - loss: 0.2832 - accuracy: 0.9043\n",
            "Epoch 3/4\n",
            "49/49 [==============================] - 1s 30ms/step - loss: 0.2043 - accuracy: 0.9292\n",
            "Epoch 4/4\n",
            "49/49 [==============================] - 1s 30ms/step - loss: 0.1678 - accuracy: 0.9421\n",
            "782/782 [==============================] - 2s 2ms/step - loss: 0.2940 - accuracy: 0.8843\n"
          ],
          "name": "stdout"
        },
        {
          "output_type": "execute_result",
          "data": {
            "text/plain": [
              "array([[0.26806372],\n",
              "       [0.99995184],\n",
              "       [0.95265216],\n",
              "       ...,\n",
              "       [0.14450803],\n",
              "       [0.07202089],\n",
              "       [0.5549759 ]], dtype=float32)"
            ]
          },
          "metadata": {
            "tags": []
          },
          "execution_count": 9
        }
      ]
    },
    {
      "cell_type": "code",
      "metadata": {
        "colab": {
          "base_uri": "https://localhost:8080/",
          "height": 1000
        },
        "id": "LGmZ8Ff9mIo_",
        "outputId": "f36b1cfd-6f5e-4312-f521-819b1756759f"
      },
      "source": [
        "#Model 5 = MSE loss function\n",
        "\n",
        "from keras import models\n",
        "from keras import layers\n",
        "\n",
        "model5 = models.Sequential()\n",
        "model5.add(layers.Dense(16, activation='relu', input_shape=(10000,)))\n",
        "model5.add(layers.Dense(16, activation='relu'))\n",
        "model5.add(layers.Dense(1, activation='sigmoid'))\n",
        "\n",
        "\n",
        "\n",
        "\n",
        "model5.compile(optimizer='rmsprop',\n",
        "              loss='mean_squared_error',\n",
        "              metrics=['accuracy'])\n",
        "\n",
        "from keras import optimizers\n",
        "\n",
        "model5.compile(optimizer=optimizers.RMSprop(lr=0.001),\n",
        "              loss='mean_squared_error',\n",
        "              metrics=['accuracy'])\n",
        "\n",
        "from keras import losses\n",
        "from keras import metrics\n",
        "\n",
        "model5.compile(optimizer=optimizers.RMSprop(lr=0.001),\n",
        "              loss=losses.mean_squared_error,\n",
        "              metrics=[metrics.binary_accuracy])\n",
        "\n",
        "\n",
        "x_val = x_train[:10000]\n",
        "partial_x_train = x_train[10000:]\n",
        "\n",
        "y_val = y_train[:10000]\n",
        "partial_y_train = y_train[10000:]\n",
        "\n",
        "history = model5.fit(partial_x_train,\n",
        "                    partial_y_train,\n",
        "                    epochs=20,\n",
        "                    batch_size=512,\n",
        "                    validation_data=(x_val, y_val))\n",
        "\n",
        "history_dict = history.history\n",
        "history_dict.keys()\n",
        "\n",
        "\n",
        "import matplotlib.pyplot as plt\n",
        "\n",
        "binary_accuracy = history.history['binary_accuracy']\n",
        "val_binary_accuracy = history.history['val_binary_accuracy']\n",
        "loss = history.history['loss']\n",
        "val_loss = history.history['val_loss']\n",
        "\n",
        "epochs = range(1, len(binary_accuracy) + 1)\n",
        "\n",
        "# \"bo\" is for \"blue dot\"\n",
        "plt.plot(epochs, loss, 'bo', label='Training loss')\n",
        "# b is for \"solid blue line\"\n",
        "plt.plot(epochs, val_loss, 'b', label='Validation loss')\n",
        "plt.title('Training and validation loss')\n",
        "plt.xlabel('Epochs')\n",
        "plt.ylabel('Loss')\n",
        "plt.legend()\n",
        "\n",
        "plt.show()\n",
        "\n",
        "plt.clf()   # clear figure\n",
        "acc_values = history_dict['binary_accuracy']\n",
        "val_acc_values = history_dict['val_binary_accuracy']\n",
        "\n",
        "plt.plot(epochs, binary_accuracy, 'bo', label='Training acc')\n",
        "plt.plot(epochs, val_binary_accuracy, 'b', label='Validation acc')\n",
        "plt.title('Training and validation accuracy')\n",
        "plt.xlabel('Epochs')\n",
        "plt.ylabel('Loss')\n",
        "plt.legend()\n",
        "\n",
        "plt.show()\n",
        "\n",
        "model5 = models.Sequential()\n",
        "model5.add(layers.Dense(16, activation='relu', input_shape=(10000,)))\n",
        "model5.add(layers.Dense(16, activation='relu'))\n",
        "model5.add(layers.Dense(1, activation='sigmoid'))\n",
        "\n",
        "model5.compile(optimizer='rmsprop',\n",
        "              loss='mean_squared_error',\n",
        "              metrics=['accuracy'])\n",
        "\n",
        "model5.fit(x_train, y_train, epochs=4, batch_size=512)\n",
        "results = model5.evaluate(x_test, y_test)\n",
        "\n",
        "results\n",
        "\n",
        "model5.predict(x_test)\n",
        "\n",
        "\n"
      ],
      "execution_count": null,
      "outputs": [
        {
          "output_type": "stream",
          "text": [
            "Epoch 1/20\n",
            "30/30 [==============================] - 2s 52ms/step - loss: 0.2108 - binary_accuracy: 0.6927 - val_loss: 0.1209 - val_binary_accuracy: 0.8720\n",
            "Epoch 2/20\n",
            "30/30 [==============================] - 1s 36ms/step - loss: 0.0988 - binary_accuracy: 0.9019 - val_loss: 0.1035 - val_binary_accuracy: 0.8674\n",
            "Epoch 3/20\n",
            "30/30 [==============================] - 1s 36ms/step - loss: 0.0690 - binary_accuracy: 0.9282 - val_loss: 0.0885 - val_binary_accuracy: 0.8870\n",
            "Epoch 4/20\n",
            "30/30 [==============================] - 1s 35ms/step - loss: 0.0530 - binary_accuracy: 0.9489 - val_loss: 0.0878 - val_binary_accuracy: 0.8838\n",
            "Epoch 5/20\n",
            "30/30 [==============================] - 1s 35ms/step - loss: 0.0432 - binary_accuracy: 0.9577 - val_loss: 0.0824 - val_binary_accuracy: 0.8885\n",
            "Epoch 6/20\n",
            "30/30 [==============================] - 1s 36ms/step - loss: 0.0325 - binary_accuracy: 0.9715 - val_loss: 0.0830 - val_binary_accuracy: 0.8873\n",
            "Epoch 7/20\n",
            "30/30 [==============================] - 1s 36ms/step - loss: 0.0285 - binary_accuracy: 0.9748 - val_loss: 0.0879 - val_binary_accuracy: 0.8803\n",
            "Epoch 8/20\n",
            "30/30 [==============================] - 1s 36ms/step - loss: 0.0236 - binary_accuracy: 0.9796 - val_loss: 0.0864 - val_binary_accuracy: 0.8829\n",
            "Epoch 9/20\n",
            "30/30 [==============================] - 1s 36ms/step - loss: 0.0179 - binary_accuracy: 0.9858 - val_loss: 0.0887 - val_binary_accuracy: 0.8802\n",
            "Epoch 10/20\n",
            "30/30 [==============================] - 1s 36ms/step - loss: 0.0154 - binary_accuracy: 0.9888 - val_loss: 0.0895 - val_binary_accuracy: 0.8805\n",
            "Epoch 11/20\n",
            "30/30 [==============================] - 2s 55ms/step - loss: 0.0125 - binary_accuracy: 0.9919 - val_loss: 0.0918 - val_binary_accuracy: 0.8779\n",
            "Epoch 12/20\n",
            "30/30 [==============================] - 1s 49ms/step - loss: 0.0100 - binary_accuracy: 0.9935 - val_loss: 0.1013 - val_binary_accuracy: 0.8656\n",
            "Epoch 13/20\n",
            "30/30 [==============================] - 1s 37ms/step - loss: 0.0085 - binary_accuracy: 0.9942 - val_loss: 0.0991 - val_binary_accuracy: 0.8702\n",
            "Epoch 14/20\n",
            "30/30 [==============================] - 1s 36ms/step - loss: 0.0069 - binary_accuracy: 0.9954 - val_loss: 0.0976 - val_binary_accuracy: 0.8728\n",
            "Epoch 15/20\n",
            "30/30 [==============================] - 1s 36ms/step - loss: 0.0056 - binary_accuracy: 0.9963 - val_loss: 0.0989 - val_binary_accuracy: 0.8723\n",
            "Epoch 16/20\n",
            "30/30 [==============================] - 1s 40ms/step - loss: 0.0049 - binary_accuracy: 0.9965 - val_loss: 0.1009 - val_binary_accuracy: 0.8720\n",
            "Epoch 17/20\n",
            "30/30 [==============================] - 1s 45ms/step - loss: 0.0043 - binary_accuracy: 0.9969 - val_loss: 0.1025 - val_binary_accuracy: 0.8701\n",
            "Epoch 18/20\n",
            "30/30 [==============================] - 1s 37ms/step - loss: 0.0031 - binary_accuracy: 0.9978 - val_loss: 0.1153 - val_binary_accuracy: 0.8559\n",
            "Epoch 19/20\n",
            "30/30 [==============================] - 1s 37ms/step - loss: 0.0037 - binary_accuracy: 0.9972 - val_loss: 0.1050 - val_binary_accuracy: 0.8668\n",
            "Epoch 20/20\n",
            "30/30 [==============================] - 1s 36ms/step - loss: 0.0024 - binary_accuracy: 0.9982 - val_loss: 0.1064 - val_binary_accuracy: 0.8667\n"
          ],
          "name": "stdout"
        },
        {
          "output_type": "display_data",
          "data": {
            "image/png": "[encoded data removed]",
            "text/plain": [
              "<Figure size 432x288 with 1 Axes>"
            ]
          },
          "metadata": {
            "tags": [],
            "needs_background": "light"
          }
        },
        {
          "output_type": "display_data",
          "data": {
            "image/png": "[encoded data removed]",
            "text/plain": [
              "<Figure size 432x288 with 1 Axes>"
            ]
          },
          "metadata": {
            "tags": [],
            "needs_background": "light"
          }
        },
        {
          "output_type": "stream",
          "text": [
            "Epoch 1/4\n",
            "49/49 [==============================] - 2s 28ms/step - loss: 0.1857 - accuracy: 0.7424\n",
            "Epoch 2/4\n",
            "49/49 [==============================] - 1s 28ms/step - loss: 0.0837 - accuracy: 0.9071\n",
            "Epoch 3/4\n",
            "49/49 [==============================] - 1s 28ms/step - loss: 0.0585 - accuracy: 0.9346\n",
            "Epoch 4/4\n",
            "49/49 [==============================] - 1s 28ms/step - loss: 0.0476 - accuracy: 0.9478\n",
            "782/782 [==============================] - 2s 3ms/step - loss: 0.0889 - accuracy: 0.8795\n"
          ],
          "name": "stdout"
        },
        {
          "output_type": "execute_result",
          "data": {
            "text/plain": [
              "array([[0.15402982],\n",
              "       [0.9990884 ],\n",
              "       [0.6611929 ],\n",
              "       ...,\n",
              "       [0.15061063],\n",
              "       [0.07442501],\n",
              "       [0.43076703]], dtype=float32)"
            ]
          },
          "metadata": {
            "tags": []
          },
          "execution_count": 10
        }
      ]
    },
    {
      "cell_type": "code",
      "metadata": {
        "colab": {
          "base_uri": "https://localhost:8080/",
          "height": 1000
        },
        "id": "mE2cf2Z6rswl",
        "outputId": "e79e3901-90b4-4c44-f79b-53b3e73647a9"
      },
      "source": [
        "#Model 6 = tanh\n",
        "\n",
        "from keras import models\n",
        "from keras import layers\n",
        "\n",
        "model6 = models.Sequential()\n",
        "model6.add(layers.Dense(16, activation='tanh', input_shape=(10000,)))\n",
        "model6.add(layers.Dense(16, activation='tanh'))\n",
        "model6.add(layers.Dense(1, activation='sigmoid'))\n",
        "\n",
        "\n",
        "\n",
        "\n",
        "model6.compile(optimizer='rmsprop',\n",
        "              loss='binary_crossentropy',\n",
        "              metrics=['accuracy'])\n",
        "\n",
        "from keras import optimizers\n",
        "\n",
        "model6.compile(optimizer=optimizers.RMSprop(lr=0.001),\n",
        "              loss='binary_crossentropy',\n",
        "              metrics=['accuracy'])\n",
        "\n",
        "from keras import losses\n",
        "from keras import metrics\n",
        "\n",
        "model6.compile(optimizer=optimizers.RMSprop(lr=0.001),\n",
        "              loss=losses.mean_squared_error,\n",
        "              metrics=[metrics.binary_accuracy])\n",
        "\n",
        "\n",
        "x_val = x_train[:10000]\n",
        "partial_x_train = x_train[10000:]\n",
        "\n",
        "y_val = y_train[:10000]\n",
        "partial_y_train = y_train[10000:]\n",
        "\n",
        "history6 = model6.fit(partial_x_train,\n",
        "                    partial_y_train,\n",
        "                    epochs=20,\n",
        "                    batch_size=512,\n",
        "                    validation_data=(x_val, y_val))\n",
        "\n",
        "history_dict6 = history6.history\n",
        "history_dict6.keys()\n",
        "\n",
        "\n",
        "import matplotlib.pyplot as plt\n",
        "\n",
        "binary_accuracy = history6.history['binary_accuracy']\n",
        "val_binary_accuracy = history6.history['val_binary_accuracy']\n",
        "loss = history6.history['loss']\n",
        "val_loss = history6.history['val_loss']\n",
        "\n",
        "epochs = range(1, len(binary_accuracy) + 1)\n",
        "\n",
        "# \"bo\" is for \"blue dot\"\n",
        "plt.plot(epochs, loss, 'bo', label='Training loss')\n",
        "# b is for \"solid blue line\"\n",
        "plt.plot(epochs, val_loss, 'b', label='Validation loss')\n",
        "plt.title('Training and validation loss')\n",
        "plt.xlabel('Epochs')\n",
        "plt.ylabel('Loss')\n",
        "plt.legend()\n",
        "\n",
        "plt.show()\n",
        "\n",
        "plt.clf()   # clear figure\n",
        "acc_values = history_dict['binary_accuracy']\n",
        "val_acc_values = history_dict['val_binary_accuracy']\n",
        "\n",
        "plt.plot(epochs, binary_accuracy, 'bo', label='Training acc')\n",
        "plt.plot(epochs, val_binary_accuracy, 'b', label='Validation acc')\n",
        "plt.title('Training and validation accuracy')\n",
        "plt.xlabel('Epochs')\n",
        "plt.ylabel('Loss')\n",
        "plt.legend()\n",
        "\n",
        "plt.show()\n",
        "\n",
        "model6 = models.Sequential()\n",
        "model6.add(layers.Dense(16, activation='relu', input_shape=(10000,)))\n",
        "model6.add(layers.Dense(16, activation='relu'))\n",
        "model6.add(layers.Dense(1, activation='sigmoid'))\n",
        "\n",
        "model6.compile(optimizer='rmsprop',\n",
        "              loss='binary_crossentropy',\n",
        "              metrics=['accuracy'])\n",
        "\n",
        "model6.fit(x_train, y_train, epochs=4, batch_size=512)\n",
        "results = model6.evaluate(x_test, y_test)\n",
        "\n",
        "results\n",
        "\n",
        "model6.predict(x_test)\n",
        "\n",
        "\n"
      ],
      "execution_count": null,
      "outputs": [
        {
          "output_type": "stream",
          "text": [
            "Epoch 1/20\n",
            "30/30 [==============================] - 3s 74ms/step - loss: 0.1895 - binary_accuracy: 0.7285 - val_loss: 0.1125 - val_binary_accuracy: 0.8672\n",
            "Epoch 2/20\n",
            "30/30 [==============================] - 1s 39ms/step - loss: 0.0872 - binary_accuracy: 0.9040 - val_loss: 0.0867 - val_binary_accuracy: 0.8861\n",
            "Epoch 3/20\n",
            "30/30 [==============================] - 1s 50ms/step - loss: 0.0550 - binary_accuracy: 0.9406 - val_loss: 0.0827 - val_binary_accuracy: 0.8888\n",
            "Epoch 4/20\n",
            "30/30 [==============================] - 1s 49ms/step - loss: 0.0402 - binary_accuracy: 0.9559 - val_loss: 0.0916 - val_binary_accuracy: 0.8761\n",
            "Epoch 5/20\n",
            "30/30 [==============================] - 1s 38ms/step - loss: 0.0307 - binary_accuracy: 0.9663 - val_loss: 0.0868 - val_binary_accuracy: 0.8851\n",
            "Epoch 6/20\n",
            "30/30 [==============================] - 1s 37ms/step - loss: 0.0266 - binary_accuracy: 0.9713 - val_loss: 0.0908 - val_binary_accuracy: 0.8804\n",
            "Epoch 7/20\n",
            "30/30 [==============================] - 1s 38ms/step - loss: 0.0191 - binary_accuracy: 0.9792 - val_loss: 0.1026 - val_binary_accuracy: 0.8685\n",
            "Epoch 8/20\n",
            "30/30 [==============================] - 1s 37ms/step - loss: 0.0145 - binary_accuracy: 0.9846 - val_loss: 0.0993 - val_binary_accuracy: 0.8756\n",
            "Epoch 9/20\n",
            "30/30 [==============================] - 1s 37ms/step - loss: 0.0107 - binary_accuracy: 0.9895 - val_loss: 0.1051 - val_binary_accuracy: 0.8714\n",
            "Epoch 10/20\n",
            "30/30 [==============================] - 1s 37ms/step - loss: 0.0091 - binary_accuracy: 0.9907 - val_loss: 0.1055 - val_binary_accuracy: 0.8732\n",
            "Epoch 11/20\n",
            "30/30 [==============================] - 1s 37ms/step - loss: 0.0066 - binary_accuracy: 0.9939 - val_loss: 0.1088 - val_binary_accuracy: 0.8701\n",
            "Epoch 12/20\n",
            "30/30 [==============================] - 1s 47ms/step - loss: 0.0100 - binary_accuracy: 0.9893 - val_loss: 0.1100 - val_binary_accuracy: 0.8699\n",
            "Epoch 13/20\n",
            "30/30 [==============================] - 1s 48ms/step - loss: 0.0053 - binary_accuracy: 0.9949 - val_loss: 0.1167 - val_binary_accuracy: 0.8647\n",
            "Epoch 14/20\n",
            "30/30 [==============================] - 1s 38ms/step - loss: 0.0058 - binary_accuracy: 0.9937 - val_loss: 0.1143 - val_binary_accuracy: 0.8671\n",
            "Epoch 15/20\n",
            "30/30 [==============================] - 1s 36ms/step - loss: 0.0045 - binary_accuracy: 0.9955 - val_loss: 0.1153 - val_binary_accuracy: 0.8678\n",
            "Epoch 16/20\n",
            "30/30 [==============================] - 1s 46ms/step - loss: 0.0060 - binary_accuracy: 0.9935 - val_loss: 0.1159 - val_binary_accuracy: 0.8685\n",
            "Epoch 17/20\n",
            "30/30 [==============================] - 1s 39ms/step - loss: 0.0049 - binary_accuracy: 0.9951 - val_loss: 0.1208 - val_binary_accuracy: 0.8619\n",
            "Epoch 18/20\n",
            "30/30 [==============================] - 1s 37ms/step - loss: 0.0059 - binary_accuracy: 0.9937 - val_loss: 0.1171 - val_binary_accuracy: 0.8677\n",
            "Epoch 19/20\n",
            "30/30 [==============================] - 1s 37ms/step - loss: 0.0040 - binary_accuracy: 0.9961 - val_loss: 0.1183 - val_binary_accuracy: 0.8686\n",
            "Epoch 20/20\n",
            "30/30 [==============================] - 1s 37ms/step - loss: 0.0038 - binary_accuracy: 0.9962 - val_loss: 0.1199 - val_binary_accuracy: 0.8666\n"
          ],
          "name": "stdout"
        },
        {
          "output_type": "display_data",
          "data": {
            "image/png": "[encoded data removed]",
            "text/plain": [
              "<Figure size 432x288 with 1 Axes>"
            ]
          },
          "metadata": {
            "tags": [],
            "needs_background": "light"
          }
        },
        {
          "output_type": "display_data",
          "data": {
            "image/png": "[encoded data removed]",
            "text/plain": [
              "<Figure size 432x288 with 1 Axes>"
            ]
          },
          "metadata": {
            "tags": [],
            "needs_background": "light"
          }
        },
        {
          "output_type": "stream",
          "text": [
            "Epoch 1/4\n",
            "49/49 [==============================] - 2s 36ms/step - loss: 0.5476 - accuracy: 0.7373\n",
            "Epoch 2/4\n",
            "49/49 [==============================] - 1s 29ms/step - loss: 0.2726 - accuracy: 0.9061\n",
            "Epoch 3/4\n",
            "49/49 [==============================] - 1s 29ms/step - loss: 0.2052 - accuracy: 0.9260\n",
            "Epoch 4/4\n",
            "49/49 [==============================] - 1s 29ms/step - loss: 0.1626 - accuracy: 0.9442\n",
            "782/782 [==============================] - 2s 3ms/step - loss: 0.3036 - accuracy: 0.8799\n"
          ],
          "name": "stdout"
        },
        {
          "output_type": "execute_result",
          "data": {
            "text/plain": [
              "array([[0.15674892],\n",
              "       [0.9996549 ],\n",
              "       [0.7838067 ],\n",
              "       ...,\n",
              "       [0.09690309],\n",
              "       [0.05887237],\n",
              "       [0.37920633]], dtype=float32)"
            ]
          },
          "metadata": {
            "tags": []
          },
          "execution_count": 11
        }
      ]
    }
  ]
}