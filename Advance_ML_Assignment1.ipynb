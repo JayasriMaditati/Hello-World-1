{
  "nbformat": 4,
  "nbformat_minor": 0,
  "metadata": {
    "colab": {
      "name": "Advance_ML_Assignment1.ipynb",
      "provenance": [],
      "collapsed_sections": [],
      "authorship_tag": "ABX9TyMkdnOZodh9T0/sbDv1QjLC",
      "include_colab_link": true
    },
    "kernelspec": {
      "name": "python3",
      "display_name": "Python 3"
    }
  },
  "cells": [
    {
      "cell_type": "markdown",
      "metadata": {
        "id": "view-in-github",
        "colab_type": "text"
      },
      "source": [
        "<a href=\"https://colab.research.google.com/github/khushbooyadav6591/Hello-World/blob/master/Advance_ML_Assignment1.ipynb\" target=\"_parent\"><img src=\"https://colab.research.google.com/assets/colab-badge.svg\" alt=\"Open In Colab\"/></a>"
      ]
    },
    {
      "cell_type": "markdown",
      "metadata": {
        "id": "vG18wfdbuHeO"
      },
      "source": [
        "\n",
        "\n",
        "---\n",
        "\n",
        "\n",
        "**Assignment** : Advance Machine Learning Assignment 1\n",
        "\n",
        "\n",
        "\n",
        "---\n",
        "\n",
        "\n",
        "\n",
        "\n",
        "*   **Author** : Khushboo Yadav\n",
        "*   **Data**   : IMDB dataset\n",
        "*   **Goal**   : To explore and extend original Neural Network model\n",
        "￼￼￼\n",
        "\n",
        "\n",
        "---\n",
        "\n",
        "\n",
        "\n",
        "\n",
        "\n",
        "\n",
        "\n",
        "\n",
        "\n",
        "\n"
      ]
    },
    {
      "cell_type": "markdown",
      "metadata": {
        "id": "YvFSI-XLC959"
      },
      "source": [
        "\n",
        "\n",
        "\n",
        "#**Original Model**\n",
        "\n",
        "\n",
        "\n",
        "#### Key Features of the original model:-\n",
        "\n",
        "\n",
        "* 16 nodes in each layer\n",
        "\n",
        "* relu activation function\n",
        "\n",
        "* Optimiser: rmsprop\n",
        "\n",
        "* loss function: binary_crossentrophy\n",
        "\n",
        "We are considering this model as original model and will be using its results for understanding of neural networks and performing some experimental changes to improve the performance of the model.\n",
        "\n",
        "\n",
        "\n",
        "\n",
        "\n",
        "\n",
        "\n",
        "\n",
        "\n",
        "\n",
        "\n",
        "\n",
        "\n",
        "\n",
        "\n",
        "\n",
        "\n"
      ]
    },
    {
      "cell_type": "code",
      "metadata": {
        "id": "dS2lPr9CuR6m"
      },
      "source": [
        "#Importing libraries\n",
        "\n",
        "import keras\n",
        "keras.__version__\n",
        "import pandas as pd\n",
        "import matplotlib.pyplot as plt # plotting\n",
        "import random\n"
      ],
      "execution_count": 13,
      "outputs": []
    },
    {
      "cell_type": "code",
      "metadata": {
        "id": "U1xes8p0vGd4"
      },
      "source": [
        "#Import imdb dataset\n",
        "from keras.datasets import imdb\n"
      ],
      "execution_count": 14,
      "outputs": []
    },
    {
      "cell_type": "code",
      "metadata": {
        "id": "BlplwVj8uuLi",
        "colab": {
          "base_uri": "https://localhost:8080/"
        },
        "outputId": "a0424045-749f-4a1f-b295-230f587a6fb1"
      },
      "source": [
        "#Import train and test data from imdb data\n",
        "(train_data,train_labels),(test_data,test_labels)=imdb.load_data(num_words=10000)"
      ],
      "execution_count": 15,
      "outputs": [
        {
          "output_type": "stream",
          "text": [
            "<string>:6: VisibleDeprecationWarning: Creating an ndarray from ragged nested sequences (which is a list-or-tuple of lists-or-tuples-or ndarrays with different lengths or shapes) is deprecated. If you meant to do this, you must specify 'dtype=object' when creating the ndarray\n",
            "/usr/local/lib/python3.6/dist-packages/tensorflow/python/keras/datasets/imdb.py:159: VisibleDeprecationWarning: Creating an ndarray from ragged nested sequences (which is a list-or-tuple of lists-or-tuples-or ndarrays with different lengths or shapes) is deprecated. If you meant to do this, you must specify 'dtype=object' when creating the ndarray\n",
            "  x_train, y_train = np.array(xs[:idx]), np.array(labels[:idx])\n",
            "/usr/local/lib/python3.6/dist-packages/tensorflow/python/keras/datasets/imdb.py:160: VisibleDeprecationWarning: Creating an ndarray from ragged nested sequences (which is a list-or-tuple of lists-or-tuples-or ndarrays with different lengths or shapes) is deprecated. If you meant to do this, you must specify 'dtype=object' when creating the ndarray\n",
            "  x_test, y_test = np.array(xs[idx:]), np.array(labels[idx:])\n"
          ],
          "name": "stderr"
        }
      ]
    },
    {
      "cell_type": "code",
      "metadata": {
        "id": "9MN0KBDbvsGG"
      },
      "source": [
        "\n",
        "# word_index is a dictionary mapping words to an integer index\n",
        "word_index = imdb.get_word_index()\n",
        "# We reverse it, mapping integer indices to words\n",
        "reverse_word_index = dict([(value, key) for (key, value) in word_index.items()])\n",
        "# We decode the review; note that our indices were offset by 3\n",
        "# because 0, 1 and 2 are reserved indices for \"padding\", \"start of sequence\", and \"unknown\".\n",
        "decoded_review = ' '.join([reverse_word_index.get(i - 3, '?') for i in train_data[0]])\n",
        "\n",
        "import numpy as np\n",
        "\n",
        "def vectorize_sequences(sequences, dimension=10000):\n",
        "    # Create an all-zero matrix of shape (len(sequences), dimension)\n",
        "    results = np.zeros((len(sequences), dimension))\n",
        "    for i, sequence in enumerate(sequences):\n",
        "        results[i, sequence] = 1.  # set specific indices of results[i] to 1s\n",
        "    return results\n",
        "\n",
        "# Our vectorized training data\n",
        "x_train = vectorize_sequences(train_data)\n",
        "# Our vectorized test data\n",
        "x_test = vectorize_sequences(test_data)\n",
        "\n",
        "# Our vectorized labels\n",
        "y_train = np.asarray(train_labels).astype('float32')\n",
        "y_test = np.asarray(test_labels).astype('float32')"
      ],
      "execution_count": 16,
      "outputs": []
    },
    {
      "cell_type": "code",
      "metadata": {
        "id": "do6p9r8GpFob",
        "colab": {
          "base_uri": "https://localhost:8080/",
          "height": 1000
        },
        "outputId": "230d6003-fdda-472a-f832-143dc09b01d9"
      },
      "source": [
        "#Network Building\n",
        "from keras import models\n",
        "from keras import layers\n",
        "import tensorflow as tf\n",
        "tf.random.set_seed(7)\n",
        "\n",
        "orig_model = models.Sequential()\n",
        "orig_model.add(layers.Dense(16, activation='relu', input_shape=(10000,)))\n",
        "orig_model.add(layers.Dense(16, activation='relu'))\n",
        "orig_model.add(layers.Dense(1, activation='sigmoid'))\n",
        "\n",
        "orig_model.summary()\n",
        "\n",
        "# Configure Model: with the rmsprop optimizer and the binary_crossentropy loss function. \n",
        "orig_model.compile(optimizer='rmsprop',\n",
        "              loss='binary_crossentropy',\n",
        "              metrics=['accuracy'])\n",
        "\n",
        "\n",
        "# Creating Validation Set: setting apart 10,000 samples from the original training data:\n",
        "\n",
        "x_val = x_train[:10000]\n",
        "partial_x_train = x_train[10000:]\n",
        "\n",
        "y_val = y_train[:10000]\n",
        "partial_y_train = y_train[10000:]\n",
        "\n",
        "\n",
        "# Model Training\n",
        "orig_history = orig_model.fit(partial_x_train,\n",
        "                    partial_y_train,\n",
        "                    epochs=20,\n",
        "                    batch_size=512,\n",
        "                    validation_data=(x_val, y_val))\n",
        "\n",
        "orig_history_dict = orig_history.history\n",
        "orig_history_dict.keys()\n",
        "\n",
        "# Matplotlib to plot the training and validation loss side by side, as well as the training and validation accuracy:\n",
        "\n",
        "import matplotlib.pyplot as plt\n",
        "\n",
        "orig_accuracy = orig_history.history['accuracy']\n",
        "orig_val_accuracy = orig_history.history['val_accuracy']\n",
        "orig_loss = orig_history.history['loss']\n",
        "orig_val_loss = orig_history.history['val_loss']\n",
        "\n",
        "epochs = range(1, len(orig_accuracy) + 1)\n",
        "\n",
        "# \"bo\" is for \"blue dot\"\n",
        "plt.plot(epochs, orig_loss, 'bo', label='Training loss')\n",
        "# b is for \"solid blue line\"\n",
        "plt.plot(epochs, orig_val_loss, 'b', label='Validation loss')\n",
        "plt.title('Training and validation loss')\n",
        "plt.xlabel('Epochs')\n",
        "plt.ylabel('Loss')\n",
        "plt.legend()\n",
        "\n",
        "plt.show()\n",
        "\n",
        "plt.clf()   # clear figure\n",
        "orig_acc_values = orig_history_dict['accuracy']\n",
        "orig_val_acc_values = orig_history_dict['val_accuracy']\n",
        "\n",
        "plt.plot(epochs, orig_accuracy, 'bo', label='Training acc')\n",
        "plt.plot(epochs, orig_val_accuracy, 'b', label='Validation acc')\n",
        "plt.title('Training and validation accuracy')\n",
        "plt.xlabel('Epochs')\n",
        "plt.ylabel('Loss')\n",
        "plt.legend()\n",
        "\n",
        "plt.show()\n"
      ],
      "execution_count": 17,
      "outputs": [
        {
          "output_type": "stream",
          "text": [
            "Model: \"sequential_2\"\n",
            "_________________________________________________________________\n",
            "Layer (type)                 Output Shape              Param #   \n",
            "=================================================================\n",
            "dense_6 (Dense)              (None, 16)                160016    \n",
            "_________________________________________________________________\n",
            "dense_7 (Dense)              (None, 16)                272       \n",
            "_________________________________________________________________\n",
            "dense_8 (Dense)              (None, 1)                 17        \n",
            "=================================================================\n",
            "Total params: 160,305\n",
            "Trainable params: 160,305\n",
            "Non-trainable params: 0\n",
            "_________________________________________________________________\n",
            "Epoch 1/20\n",
            "30/30 [==============================] - 4s 80ms/step - loss: 0.5968 - accuracy: 0.6990 - val_loss: 0.3999 - val_accuracy: 0.8717\n",
            "Epoch 2/20\n",
            "30/30 [==============================] - 1s 37ms/step - loss: 0.3351 - accuracy: 0.9055 - val_loss: 0.3130 - val_accuracy: 0.8867\n",
            "Epoch 3/20\n",
            "30/30 [==============================] - 1s 37ms/step - loss: 0.2315 - accuracy: 0.9333 - val_loss: 0.2977 - val_accuracy: 0.8838\n",
            "Epoch 4/20\n",
            "30/30 [==============================] - 1s 37ms/step - loss: 0.1827 - accuracy: 0.9458 - val_loss: 0.2785 - val_accuracy: 0.8881\n",
            "Epoch 5/20\n",
            "30/30 [==============================] - 1s 37ms/step - loss: 0.1498 - accuracy: 0.9567 - val_loss: 0.2801 - val_accuracy: 0.8881\n",
            "Epoch 6/20\n",
            "30/30 [==============================] - 1s 37ms/step - loss: 0.1166 - accuracy: 0.9688 - val_loss: 0.3135 - val_accuracy: 0.8804\n",
            "Epoch 7/20\n",
            "30/30 [==============================] - 1s 37ms/step - loss: 0.1015 - accuracy: 0.9719 - val_loss: 0.3064 - val_accuracy: 0.8841\n",
            "Epoch 8/20\n",
            "30/30 [==============================] - 1s 36ms/step - loss: 0.0826 - accuracy: 0.9774 - val_loss: 0.3233 - val_accuracy: 0.8821\n",
            "Epoch 9/20\n",
            "30/30 [==============================] - 1s 38ms/step - loss: 0.0676 - accuracy: 0.9836 - val_loss: 0.3447 - val_accuracy: 0.8806\n",
            "Epoch 10/20\n",
            "30/30 [==============================] - 1s 37ms/step - loss: 0.0561 - accuracy: 0.9876 - val_loss: 0.3658 - val_accuracy: 0.8770\n",
            "Epoch 11/20\n",
            "30/30 [==============================] - 1s 38ms/step - loss: 0.0462 - accuracy: 0.9908 - val_loss: 0.3935 - val_accuracy: 0.8744\n",
            "Epoch 12/20\n",
            "30/30 [==============================] - 1s 37ms/step - loss: 0.0366 - accuracy: 0.9938 - val_loss: 0.4304 - val_accuracy: 0.8707\n",
            "Epoch 13/20\n",
            "30/30 [==============================] - 1s 37ms/step - loss: 0.0318 - accuracy: 0.9937 - val_loss: 0.4668 - val_accuracy: 0.8689\n",
            "Epoch 14/20\n",
            "30/30 [==============================] - 1s 37ms/step - loss: 0.0268 - accuracy: 0.9954 - val_loss: 0.4846 - val_accuracy: 0.8708\n",
            "Epoch 15/20\n",
            "30/30 [==============================] - 1s 37ms/step - loss: 0.0193 - accuracy: 0.9972 - val_loss: 0.5172 - val_accuracy: 0.8697\n",
            "Epoch 16/20\n",
            "30/30 [==============================] - 1s 37ms/step - loss: 0.0148 - accuracy: 0.9981 - val_loss: 0.5570 - val_accuracy: 0.8676\n",
            "Epoch 17/20\n",
            "30/30 [==============================] - 1s 37ms/step - loss: 0.0114 - accuracy: 0.9992 - val_loss: 0.5841 - val_accuracy: 0.8683\n",
            "Epoch 18/20\n",
            "30/30 [==============================] - 1s 37ms/step - loss: 0.0078 - accuracy: 0.9998 - val_loss: 0.6726 - val_accuracy: 0.8603\n",
            "Epoch 19/20\n",
            "30/30 [==============================] - 1s 36ms/step - loss: 0.0076 - accuracy: 0.9998 - val_loss: 0.6974 - val_accuracy: 0.8631\n",
            "Epoch 20/20\n",
            "30/30 [==============================] - 1s 36ms/step - loss: 0.0060 - accuracy: 0.9997 - val_loss: 0.7052 - val_accuracy: 0.8648\n"
          ],
          "name": "stdout"
        },
        {
          "output_type": "display_data",
          "data": {
            "image/png": "[encoded data removed]",
            "text/plain": [
              "<Figure size 432x288 with 1 Axes>"
            ]
          },
          "metadata": {
            "tags": [],
            "needs_background": "light"
          }
        },
        {
          "output_type": "display_data",
          "data": {
            "image/png": "[encoded data removed]",
            "text/plain": [
              "<Figure size 432x288 with 1 Axes>"
            ]
          },
          "metadata": {
            "tags": [],
            "needs_background": "light"
          }
        }
      ]
    },
    {
      "cell_type": "markdown",
      "metadata": {
        "id": "6_j0qZKFiVDp"
      },
      "source": [
        "Observations:\n",
        " * The training loss decreases with every epoch and the training accuracy increases with every epoch. \n",
        " * The validation loss and accuracy seems rise at 4th Epoch\n",
        "  \n",
        " * This model is performing   better on the training data but not on the validation data for both loss and accuracy.  This is an \"overfitting\" situation.\n",
        "\n",
        "\n",
        " Let's retrain the model with keeping only 4 Epochs and validate the results on the validation data.\n"
      ]
    },
    {
      "cell_type": "code",
      "metadata": {
        "id": "1PQd1CdQ7tqy",
        "colab": {
          "base_uri": "https://localhost:8080/"
        },
        "outputId": "87d69e2e-7d0e-4415-dc70-7302ba2b4858"
      },
      "source": [
        "#Retraining the model with 4 Epochs\n",
        "\n",
        "tf.random.set_seed(8)\n",
        "\n",
        "orig_retrained_model = models.Sequential()\n",
        "orig_retrained_model.add(layers.Dense(16, activation='relu', input_shape=(10000,)))\n",
        "orig_retrained_model.add(layers.Dense(16, activation='relu'))\n",
        "orig_retrained_model.add(layers.Dense(1, activation='sigmoid'))\n",
        "\n",
        "\n",
        "orig_retrained_model.compile(optimizer='rmsprop',\n",
        "              loss='binary_crossentropy',\n",
        "              metrics=['accuracy'])\n",
        "\n",
        "orig_retrained_model.fit(x_train, y_train, epochs=4, batch_size=512)\n",
        "orig_results = orig_retrained_model.evaluate(x_test, y_test)\n",
        "\n",
        "print(orig_results)\n",
        "\n",
        "orig_retrained_model.predict(x_test)"
      ],
      "execution_count": 18,
      "outputs": [
        {
          "output_type": "stream",
          "text": [
            "Epoch 1/4\n",
            "49/49 [==============================] - 2s 28ms/step - loss: 0.5551 - accuracy: 0.7433\n",
            "Epoch 2/4\n",
            "49/49 [==============================] - 1s 28ms/step - loss: 0.2788 - accuracy: 0.9096\n",
            "Epoch 3/4\n",
            "49/49 [==============================] - 1s 29ms/step - loss: 0.2075 - accuracy: 0.9259\n",
            "Epoch 4/4\n",
            "49/49 [==============================] - 1s 27ms/step - loss: 0.1705 - accuracy: 0.9396\n",
            "782/782 [==============================] - 2s 2ms/step - loss: 0.2915 - accuracy: 0.8842\n",
            "[0.2914949357509613, 0.8842399716377258]\n"
          ],
          "name": "stdout"
        },
        {
          "output_type": "execute_result",
          "data": {
            "text/plain": [
              "array([[0.18942767],\n",
              "       [0.9997946 ],\n",
              "       [0.9209652 ],\n",
              "       ...,\n",
              "       [0.14396375],\n",
              "       [0.07375705],\n",
              "       [0.61732715]], dtype=float32)"
            ]
          },
          "metadata": {
            "tags": []
          },
          "execution_count": 18
        }
      ]
    },
    {
      "cell_type": "markdown",
      "metadata": {
        "id": "16z2wpif5C1B"
      },
      "source": [
        "Observations:-\n",
        "* After retraining the original model we can see that the performance has been improved .\n",
        "* Let's try to validate the performance of the original model by playing with the layers.\n",
        "\n",
        "Lets create a new model with 1 dense layer  instead of 2."
      ]
    },
    {
      "cell_type": "code",
      "metadata": {
        "colab": {
          "base_uri": "https://localhost:8080/"
        },
        "id": "KJqIIu2MhbyO",
        "outputId": "fdbf9d4f-6f2f-4ad3-ec77-b8623d1d3334"
      },
      "source": [
        "orig_results[0]"
      ],
      "execution_count": 19,
      "outputs": [
        {
          "output_type": "execute_result",
          "data": {
            "text/plain": [
              "0.2914949357509613"
            ]
          },
          "metadata": {
            "tags": []
          },
          "execution_count": 19
        }
      ]
    },
    {
      "cell_type": "code",
      "metadata": {
        "id": "3L40FOtMjhdK",
        "colab": {
          "base_uri": "https://localhost:8080/",
          "height": 1000
        },
        "outputId": "5d69ce90-155b-45f6-fa51-2dfdc0f2e813"
      },
      "source": [
        "\n",
        "#model 2 : 1 hidden layer\n",
        "\n",
        "#Network Building\n",
        "from keras import models\n",
        "from keras import layers\n",
        "\n",
        "tf.random.set_seed(9)\n",
        "\n",
        "smaller_model = models.Sequential()\n",
        "smaller_model.add(layers.Dense(16, activation='relu', input_shape=(10000,)))\n",
        "#smaller_model.add(layers.Dense(16, activation='relu'))# removed one hidden layer\n",
        "smaller_model.add(layers.Dense(1, activation='sigmoid'))\n",
        "\n",
        "# Configure Model: with the rmsprop optimizer and the binary_crossentropy loss function. \n",
        "\n",
        "smaller_model.compile(optimizer='rmsprop',\n",
        "              loss='binary_crossentropy',\n",
        "              metrics=['accuracy'])\n",
        "\n",
        "\n",
        "\n",
        "#Creating Validation Set:setting apart 10,000 samples from the original training data:\n",
        "#x_val = x_train[:10000]\n",
        "#partial_x_train = x_train[10000:]\n",
        "\n",
        "#y_val = y_train[:10000]\n",
        "#partial_y_train = y_train[10000:]\n",
        "\n",
        "# Model Training\n",
        "smaller_model_history = smaller_model.fit(partial_x_train,\n",
        "                    partial_y_train,\n",
        "                    epochs=20,\n",
        "                    batch_size=512,\n",
        "                    validation_data=(x_val, y_val))\n",
        "\n",
        "smaller_model_history_dict = smaller_model_history.history\n",
        "smaller_model_history_dict.keys()\n",
        "\n",
        "#Plot the training and validation loss side by side, as well as the training and validation accuracy:\n",
        "import matplotlib.pyplot as plt\n",
        "\n",
        "smaller_model_history_accuracy = smaller_model_history.history['accuracy']\n",
        "smaller_model_history_val_accuracy = smaller_model_history.history['val_accuracy']\n",
        "smaller_model_history_loss = smaller_model_history.history['loss']\n",
        "smaller_model_history_val_loss = smaller_model_history.history['val_loss']\n",
        "\n",
        "epochs = range(1, len(smaller_model_history_accuracy) + 1)\n",
        "\n",
        "# \"bo\" is for \"blue dot\"\n",
        "plt.plot(epochs, smaller_model_history_loss, 'bo', label='Training loss')\n",
        "# b is for \"solid blue line\"\n",
        "plt.plot(epochs, smaller_model_history_val_loss, 'b', label='Validation loss')\n",
        "plt.title('Training and validation loss')\n",
        "plt.xlabel('Epochs')\n",
        "plt.ylabel('Loss')\n",
        "plt.legend()\n",
        "\n",
        "plt.show()\n",
        "\n",
        "plt.clf()   # clear figure\n",
        "#acc_values = history_dict['accuracy']\n",
        "#val_acc_values = history_dict['val_accuracy']\n",
        "\n",
        "plt.plot(epochs, smaller_model_history_accuracy, 'bo', label='Training acc')\n",
        "plt.plot(epochs, smaller_model_history_val_accuracy, 'b', label='Validation acc')\n",
        "plt.title('Training and validation accuracy')\n",
        "plt.xlabel('Epochs')\n",
        "plt.ylabel('Loss')\n",
        "plt.legend()\n",
        "\n",
        "plt.show()\n"
      ],
      "execution_count": 20,
      "outputs": [
        {
          "output_type": "stream",
          "text": [
            "Epoch 1/20\n",
            "30/30 [==============================] - 2s 50ms/step - loss: 0.5604 - accuracy: 0.7261 - val_loss: 0.3893 - val_accuracy: 0.8594\n",
            "Epoch 2/20\n",
            "30/30 [==============================] - 2s 53ms/step - loss: 0.3271 - accuracy: 0.8971 - val_loss: 0.3114 - val_accuracy: 0.8888\n",
            "Epoch 3/20\n",
            "30/30 [==============================] - 1s 40ms/step - loss: 0.2449 - accuracy: 0.9260 - val_loss: 0.3046 - val_accuracy: 0.8759\n",
            "Epoch 4/20\n",
            "30/30 [==============================] - 1s 41ms/step - loss: 0.2042 - accuracy: 0.9373 - val_loss: 0.2795 - val_accuracy: 0.8883\n",
            "Epoch 5/20\n",
            "30/30 [==============================] - 1s 41ms/step - loss: 0.1634 - accuracy: 0.9528 - val_loss: 0.2744 - val_accuracy: 0.8879\n",
            "Epoch 6/20\n",
            "30/30 [==============================] - 1s 39ms/step - loss: 0.1399 - accuracy: 0.9607 - val_loss: 0.2865 - val_accuracy: 0.8857\n",
            "Epoch 7/20\n",
            "30/30 [==============================] - 1s 36ms/step - loss: 0.1251 - accuracy: 0.9665 - val_loss: 0.2802 - val_accuracy: 0.8874\n",
            "Epoch 8/20\n",
            "30/30 [==============================] - 1s 37ms/step - loss: 0.1054 - accuracy: 0.9723 - val_loss: 0.2927 - val_accuracy: 0.8825\n",
            "Epoch 9/20\n",
            "30/30 [==============================] - 1s 36ms/step - loss: 0.0932 - accuracy: 0.9771 - val_loss: 0.3052 - val_accuracy: 0.8827\n",
            "Epoch 10/20\n",
            "30/30 [==============================] - 1s 37ms/step - loss: 0.0831 - accuracy: 0.9811 - val_loss: 0.3285 - val_accuracy: 0.8798\n",
            "Epoch 11/20\n",
            "30/30 [==============================] - 1s 36ms/step - loss: 0.0726 - accuracy: 0.9840 - val_loss: 0.3234 - val_accuracy: 0.8830\n",
            "Epoch 12/20\n",
            "30/30 [==============================] - 1s 36ms/step - loss: 0.0647 - accuracy: 0.9874 - val_loss: 0.3402 - val_accuracy: 0.8796\n",
            "Epoch 13/20\n",
            "30/30 [==============================] - 1s 35ms/step - loss: 0.0567 - accuracy: 0.9897 - val_loss: 0.3561 - val_accuracy: 0.8780\n",
            "Epoch 14/20\n",
            "30/30 [==============================] - 1s 36ms/step - loss: 0.0503 - accuracy: 0.9899 - val_loss: 0.3718 - val_accuracy: 0.8779\n",
            "Epoch 15/20\n",
            "30/30 [==============================] - 1s 36ms/step - loss: 0.0444 - accuracy: 0.9911 - val_loss: 0.3837 - val_accuracy: 0.8769\n",
            "Epoch 16/20\n",
            "30/30 [==============================] - 1s 36ms/step - loss: 0.0392 - accuracy: 0.9930 - val_loss: 0.3998 - val_accuracy: 0.8766\n",
            "Epoch 17/20\n",
            "30/30 [==============================] - 1s 36ms/step - loss: 0.0325 - accuracy: 0.9952 - val_loss: 0.4455 - val_accuracy: 0.8712\n",
            "Epoch 18/20\n",
            "30/30 [==============================] - 1s 36ms/step - loss: 0.0290 - accuracy: 0.9968 - val_loss: 0.4348 - val_accuracy: 0.8711\n",
            "Epoch 19/20\n",
            "30/30 [==============================] - 1s 37ms/step - loss: 0.0246 - accuracy: 0.9969 - val_loss: 0.4596 - val_accuracy: 0.8676\n",
            "Epoch 20/20\n",
            "30/30 [==============================] - 1s 35ms/step - loss: 0.0224 - accuracy: 0.9967 - val_loss: 0.4761 - val_accuracy: 0.8709\n"
          ],
          "name": "stdout"
        },
        {
          "output_type": "display_data",
          "data": {
            "image/png": "[encoded data removed]",
            "text/plain": [
              "<Figure size 432x288 with 1 Axes>"
            ]
          },
          "metadata": {
            "tags": [],
            "needs_background": "light"
          }
        },
        {
          "output_type": "display_data",
          "data": {
            "image/png": "[encoded data removed]",
            "text/plain": [
              "<Figure size 432x288 with 1 Axes>"
            ]
          },
          "metadata": {
            "tags": [],
            "needs_background": "light"
          }
        }
      ]
    },
    {
      "cell_type": "markdown",
      "metadata": {
        "id": "-roaLwjQyxMi"
      },
      "source": [
        "Observations:-\n",
        "\n",
        "* It seems that Accuracy and loss are not any good on validation as compared to Training.\n",
        "\n",
        "* However after epoch 5 the difference is getting in the chart.\n",
        "* Let's retrained the model with epoch =5.and check the results :-\n"
      ]
    },
    {
      "cell_type": "code",
      "metadata": {
        "colab": {
          "base_uri": "https://localhost:8080/"
        },
        "id": "imhgX7k0_mDa",
        "outputId": "80417c77-91e2-4c66-ca71-083703bfe5a9"
      },
      "source": [
        "#Retraining the  smaller Model with 5 Epochs\n",
        "tf.random.set_seed(12)\n",
        "\n",
        "smaller_model = models.Sequential()\n",
        "smaller_model.add(layers.Dense(16, activation='relu', input_shape=(10000,)))\n",
        "#smaller_model.add(layers.Dense(16, activation='relu'))\n",
        "smaller_model.add(layers.Dense(1, activation='sigmoid'))\n",
        "\n",
        "smaller_model.compile(optimizer='rmsprop',\n",
        "              loss='binary_crossentropy',\n",
        "              metrics=['accuracy'])\n",
        "\n",
        "smaller_model.fit(x_train, y_train, epochs=5, batch_size=512)\n",
        "smaller_model_results = smaller_model.evaluate(x_test, y_test)\n",
        "\n",
        "print(smaller_model_results)\n",
        "\n",
        "smaller_model.predict(x_test)"
      ],
      "execution_count": 21,
      "outputs": [
        {
          "output_type": "stream",
          "text": [
            "Epoch 1/5\n",
            "49/49 [==============================] - 2s 28ms/step - loss: 0.5320 - accuracy: 0.7600\n",
            "Epoch 2/5\n",
            "49/49 [==============================] - 1s 28ms/step - loss: 0.2842 - accuracy: 0.9093\n",
            "Epoch 3/5\n",
            "49/49 [==============================] - 1s 28ms/step - loss: 0.2225 - accuracy: 0.9242\n",
            "Epoch 4/5\n",
            "49/49 [==============================] - 1s 28ms/step - loss: 0.1826 - accuracy: 0.9416\n",
            "Epoch 5/5\n",
            "49/49 [==============================] - 1s 28ms/step - loss: 0.1564 - accuracy: 0.9496\n",
            "782/782 [==============================] - 2s 2ms/step - loss: 0.2955 - accuracy: 0.8819\n",
            "[0.2954699695110321, 0.881879985332489]\n"
          ],
          "name": "stdout"
        },
        {
          "output_type": "execute_result",
          "data": {
            "text/plain": [
              "array([[0.16465464],\n",
              "       [0.9998299 ],\n",
              "       [0.79364634],\n",
              "       ...,\n",
              "       [0.12005672],\n",
              "       [0.06393087],\n",
              "       [0.5408848 ]], dtype=float32)"
            ]
          },
          "metadata": {
            "tags": []
          },
          "execution_count": 21
        }
      ]
    },
    {
      "cell_type": "markdown",
      "metadata": {
        "id": "3wkMPP76HmuW"
      },
      "source": [
        "Observations:-\n",
        "\n",
        "* the average loss is 29% and accuracy is 88.18%.If we compare the results from the original retrained model it was 29% loss and 88.49% accuracy.\n",
        "\n",
        "* As per the result we dont find much difference in the performance of the model.\n",
        "\n",
        "Let's try to increase the layer to 3 from 2 and check results ."
      ]
    },
    {
      "cell_type": "code",
      "metadata": {
        "colab": {
          "base_uri": "https://localhost:8080/",
          "height": 1000
        },
        "id": "ebXQOOoQAAMY",
        "outputId": "98c83ec4-87ef-45a2-9f38-f5074e2ae651"
      },
      "source": [
        "\n",
        "#model 3 : 3 layer,rest same\n",
        "\n",
        "#Network Building\n",
        "\n",
        "from keras import models\n",
        "from keras import layers\n",
        "\n",
        "tf.random.set_seed(10)\n",
        "\n",
        "bigger_model = models.Sequential()\n",
        "bigger_model.add(layers.Dense(16, activation='relu', input_shape=(10000,)))\n",
        "bigger_model.add(layers.Dense(16, activation='relu'))\n",
        "bigger_model.add(layers.Dense(16, activation='relu'))\n",
        "\n",
        "bigger_model.add(layers.Dense(1, activation='sigmoid'))\n",
        "\n",
        "# Configure Model: with the rmsprop optimizer and the binary_crossentropy loss function. \n",
        "\n",
        "bigger_model.compile(optimizer='rmsprop',\n",
        "              loss='binary_crossentropy',\n",
        "              metrics=['accuracy'])\n",
        "\n",
        "\n",
        "\n",
        "#Creating Validation Set:setting apart 10,000 samples from the original training data:\n",
        "\n",
        "#x_val = x_train[:10000]\n",
        "#partial_x_train = x_train[10000:]\n",
        "\n",
        "#y_val = y_train[:10000]\n",
        "#partial_y_train = y_train[10000:]\n",
        "\n",
        "#Training the Model\n",
        "bigger_model_history = bigger_model.fit(partial_x_train,\n",
        "                    partial_y_train,\n",
        "                    epochs=20,\n",
        "                    batch_size=512,\n",
        "                    validation_data=(x_val, y_val))\n",
        "\n",
        "bigger_model_history_dict = bigger_model_history.history\n",
        "bigger_model_history_dict.keys()\n",
        "\n",
        "#Plot the training and validation loss side by side, as well as the training and validation accuracy:\n",
        "import matplotlib.pyplot as plt\n",
        "\n",
        "bigger_model_history_accuracy = bigger_model_history.history['accuracy']\n",
        "bigger_model_history_val_accuracy = bigger_model_history.history['val_accuracy']\n",
        "bigger_model_history_loss = bigger_model_history.history['loss']\n",
        "bigger_model_history_val_loss = bigger_model_history.history['val_loss']\n",
        "\n",
        "epochs = range(1, len(bigger_model_history_accuracy) + 1)\n",
        "\n",
        "# \"bo\" is for \"blue dot\"\n",
        "plt.plot(epochs, bigger_model_history_loss, 'bo', label='Training loss')\n",
        "# b is for \"solid blue line\"\n",
        "plt.plot(epochs, bigger_model_history_val_loss, 'b', label='Validation loss')\n",
        "plt.title('Training and validation loss')\n",
        "plt.xlabel('Epochs')\n",
        "plt.ylabel('Loss')\n",
        "plt.legend()\n",
        "\n",
        "plt.show()\n",
        "\n",
        "plt.clf()   # clear figure\n",
        "#acc_values = history_dict['accuracy']\n",
        "#val_acc_values = history_dict['val_accuracy']\n",
        "\n",
        "plt.plot(epochs, bigger_model_history_accuracy, 'bo', label='Training acc')\n",
        "plt.plot(epochs, bigger_model_history_val_accuracy, 'b', label='Validation acc')\n",
        "plt.title('Training and validation accuracy')\n",
        "plt.xlabel('Epochs')\n",
        "plt.ylabel('Loss')\n",
        "plt.legend()\n",
        "\n",
        "plt.show()\n"
      ],
      "execution_count": 22,
      "outputs": [
        {
          "output_type": "stream",
          "text": [
            "Epoch 1/20\n",
            "30/30 [==============================] - 2s 47ms/step - loss: 0.6442 - accuracy: 0.5738 - val_loss: 0.5247 - val_accuracy: 0.8549\n",
            "Epoch 2/20\n",
            "30/30 [==============================] - 1s 36ms/step - loss: 0.4207 - accuracy: 0.8877 - val_loss: 0.3500 - val_accuracy: 0.8724\n",
            "Epoch 3/20\n",
            "30/30 [==============================] - 1s 38ms/step - loss: 0.2593 - accuracy: 0.9241 - val_loss: 0.3014 - val_accuracy: 0.8838\n",
            "Epoch 4/20\n",
            "30/30 [==============================] - 1s 37ms/step - loss: 0.1840 - accuracy: 0.9463 - val_loss: 0.2910 - val_accuracy: 0.8837\n",
            "Epoch 5/20\n",
            "30/30 [==============================] - 1s 37ms/step - loss: 0.1397 - accuracy: 0.9607 - val_loss: 0.3095 - val_accuracy: 0.8769\n",
            "Epoch 6/20\n",
            "30/30 [==============================] - 1s 37ms/step - loss: 0.1152 - accuracy: 0.9661 - val_loss: 0.3095 - val_accuracy: 0.8850\n",
            "Epoch 7/20\n",
            "30/30 [==============================] - 1s 37ms/step - loss: 0.0818 - accuracy: 0.9796 - val_loss: 0.3248 - val_accuracy: 0.8843\n",
            "Epoch 8/20\n",
            "30/30 [==============================] - 1s 37ms/step - loss: 0.0654 - accuracy: 0.9838 - val_loss: 0.4074 - val_accuracy: 0.8728\n",
            "Epoch 9/20\n",
            "30/30 [==============================] - 1s 37ms/step - loss: 0.0549 - accuracy: 0.9854 - val_loss: 0.3826 - val_accuracy: 0.8812\n",
            "Epoch 10/20\n",
            "30/30 [==============================] - 1s 37ms/step - loss: 0.0419 - accuracy: 0.9906 - val_loss: 0.4417 - val_accuracy: 0.8753\n",
            "Epoch 11/20\n",
            "30/30 [==============================] - 1s 38ms/step - loss: 0.0288 - accuracy: 0.9954 - val_loss: 0.4618 - val_accuracy: 0.8785\n",
            "Epoch 12/20\n",
            "30/30 [==============================] - 1s 37ms/step - loss: 0.0200 - accuracy: 0.9974 - val_loss: 0.5192 - val_accuracy: 0.8763\n",
            "Epoch 13/20\n",
            "30/30 [==============================] - 1s 38ms/step - loss: 0.0245 - accuracy: 0.9951 - val_loss: 0.5192 - val_accuracy: 0.8757\n",
            "Epoch 14/20\n",
            "30/30 [==============================] - 1s 37ms/step - loss: 0.0130 - accuracy: 0.9986 - val_loss: 0.7042 - val_accuracy: 0.8410\n",
            "Epoch 15/20\n",
            "30/30 [==============================] - 1s 37ms/step - loss: 0.0195 - accuracy: 0.9946 - val_loss: 0.8663 - val_accuracy: 0.8452\n",
            "Epoch 16/20\n",
            "30/30 [==============================] - 1s 37ms/step - loss: 0.0177 - accuracy: 0.9960 - val_loss: 0.6483 - val_accuracy: 0.8738\n",
            "Epoch 17/20\n",
            "30/30 [==============================] - 1s 37ms/step - loss: 0.0155 - accuracy: 0.9964 - val_loss: 0.6620 - val_accuracy: 0.8719\n",
            "Epoch 18/20\n",
            "30/30 [==============================] - 1s 36ms/step - loss: 0.0060 - accuracy: 0.9993 - val_loss: 0.6885 - val_accuracy: 0.8705\n",
            "Epoch 19/20\n",
            "30/30 [==============================] - 1s 49ms/step - loss: 0.0076 - accuracy: 0.9984 - val_loss: 0.7250 - val_accuracy: 0.8699\n",
            "Epoch 20/20\n",
            "30/30 [==============================] - 1s 40ms/step - loss: 0.0035 - accuracy: 0.9996 - val_loss: 0.7471 - val_accuracy: 0.8713\n"
          ],
          "name": "stdout"
        },
        {
          "output_type": "display_data",
          "data": {
            "image/png": "[encoded data removed]",
            "text/plain": [
              "<Figure size 432x288 with 1 Axes>"
            ]
          },
          "metadata": {
            "tags": [],
            "needs_background": "light"
          }
        },
        {
          "output_type": "display_data",
          "data": {
            "image/png": "[encoded data removed]",
            "text/plain": [
              "<Figure size 432x288 with 1 Axes>"
            ]
          },
          "metadata": {
            "tags": [],
            "needs_background": "light"
          }
        }
      ]
    },
    {
      "cell_type": "markdown",
      "metadata": {
        "id": "Rc6YauPPKXsw"
      },
      "source": [
        "Observations:\n",
        "* It seems that accuracy has improved howvever the loss has increases as compared to the original model in the chart.\n",
        "* let's try to retrain the model with 4 epochs as the validation loss and accuracy seems rise at 4th Epoch."
      ]
    },
    {
      "cell_type": "code",
      "metadata": {
        "colab": {
          "base_uri": "https://localhost:8080/"
        },
        "id": "-L0rgx4bAXD9",
        "outputId": "a84ee40e-7eeb-4c59-e52f-99df7f0d98d4"
      },
      "source": [
        "#Retraining the  bigger model with 4 Epochs\n",
        "\n",
        "bigger_model = models.Sequential()\n",
        "bigger_model.add(layers.Dense(16, activation='relu', input_shape=(10000,)))\n",
        "bigger_model.add(layers.Dense(16, activation='relu'))\n",
        "bigger_model.add(layers.Dense(16, activation='relu'))\n",
        "bigger_model.add(layers.Dense(1, activation='sigmoid'))\n",
        "\n",
        "bigger_model.compile(optimizer='rmsprop',\n",
        "              loss='binary_crossentropy',\n",
        "              metrics=['accuracy'])\n",
        "\n",
        "bigger_model.fit(x_train, y_train, epochs=4, batch_size=512)\n",
        "bigger_model_results = bigger_model.evaluate(x_test, y_test)\n",
        "\n",
        "print(bigger_model_results)\n",
        "\n",
        "bigger_model.predict(x_test)"
      ],
      "execution_count": 23,
      "outputs": [
        {
          "output_type": "stream",
          "text": [
            "Epoch 1/4\n",
            "49/49 [==============================] - 2s 29ms/step - loss: 0.6032 - accuracy: 0.7081\n",
            "Epoch 2/4\n",
            "49/49 [==============================] - 2s 31ms/step - loss: 0.2984 - accuracy: 0.9032\n",
            "Epoch 3/4\n",
            "49/49 [==============================] - 2s 32ms/step - loss: 0.2067 - accuracy: 0.9288\n",
            "Epoch 4/4\n",
            "49/49 [==============================] - 2s 31ms/step - loss: 0.1594 - accuracy: 0.9475\n",
            "782/782 [==============================] - 2s 3ms/step - loss: 0.3130 - accuracy: 0.8794\n",
            "[0.31297555565834045, 0.8794400095939636]\n"
          ],
          "name": "stdout"
        },
        {
          "output_type": "execute_result",
          "data": {
            "text/plain": [
              "array([[0.18358701],\n",
              "       [0.9999654 ],\n",
              "       [0.98800844],\n",
              "       ...,\n",
              "       [0.10272911],\n",
              "       [0.11742598],\n",
              "       [0.82172674]], dtype=float32)"
            ]
          },
          "metadata": {
            "tags": []
          },
          "execution_count": 23
        }
      ]
    },
    {
      "cell_type": "markdown",
      "metadata": {
        "id": "xsOvBs_dMocP"
      },
      "source": [
        "Observation:-\n",
        "* as we can see that loss has increased to 31% from 29% and accuracy has gone down. It seems we are in the wrong direction and need to explore  other methods to improve the performance of the model.\n",
        "\n",
        "Let's try to reduce the nodes in the hidden layer  and validate the results:-"
      ]
    },
    {
      "cell_type": "code",
      "metadata": {
        "id": "qtgQiV8oezDI",
        "colab": {
          "base_uri": "https://localhost:8080/",
          "height": 1000
        },
        "outputId": "e400828d-ca77-4d11-afa7-9a429c0cde04"
      },
      "source": [
        "#Model 4 = less nodes\n",
        "#Building Network\n",
        "tf.random.set_seed(11)\n",
        "\n",
        "from keras import models\n",
        "from keras import layers\n",
        "\n",
        "lessunits_model = models.Sequential()\n",
        "lessunits_model.add(layers.Dense(8, activation='relu', input_shape=(10000,)))\n",
        "lessunits_model.add(layers.Dense(8, activation='relu'))\n",
        "lessunits_model.add(layers.Dense(1, activation='sigmoid'))\n",
        "\n",
        "# Configure Model: with the rmsprop optimizer and the binary_crossentropy loss function. \n",
        "\n",
        "lessunits_model.compile(optimizer='rmsprop',\n",
        "              loss='binary_crossentropy',\n",
        "              metrics=['accuracy'])\n",
        "\n",
        "\n",
        "\n",
        "#Creating Validation Set:setting apart 10,000 samples from the original training data:\n",
        "\n",
        "#x_val = x_train[:10000]\n",
        "#partial_x_train = x_train[10000:]\n",
        "\n",
        "#y_val = y_train[:10000]\n",
        "#partial_y_train = y_train[10000:]\n",
        "\n",
        "#Training the Model\n",
        "lessunits_model_history = lessunits_model.fit(partial_x_train,\n",
        "                    partial_y_train,\n",
        "                    epochs=20,\n",
        "                    batch_size=512,\n",
        "                    validation_data=(x_val, y_val))\n",
        "\n",
        "lessunits_model_history_dict = lessunits_model_history.history\n",
        "lessunits_model_history_dict.keys()\n",
        "\n",
        "# Plot the training and validation loss side by side, as well as the training and validation accuracy:\n",
        "\n",
        "import matplotlib.pyplot as plt\n",
        "\n",
        "lessunits_model_history_accuracy = lessunits_model_history.history['accuracy']\n",
        "lessunits_model_history_val_accuracy = lessunits_model_history.history['val_accuracy']\n",
        "lessunits_model_history_loss = lessunits_model_history.history['loss']\n",
        "lessunits_model_history_val_loss = lessunits_model_history.history['val_loss']\n",
        "\n",
        "epochs = range(1, len(lessunits_model_history_accuracy) + 1)\n",
        "\n",
        "# \"bo\" is for \"blue dot\"\n",
        "plt.plot(epochs, lessunits_model_history_loss, 'bo', label='Training loss')\n",
        "# b is for \"solid blue line\"\n",
        "plt.plot(epochs, lessunits_model_history_val_loss, 'b', label='Validation loss')\n",
        "plt.title('Training and validation loss')\n",
        "plt.xlabel('Epochs')\n",
        "plt.ylabel('Loss')\n",
        "plt.legend()\n",
        "\n",
        "plt.show()\n",
        "\n",
        "plt.clf()   # clear figure\n",
        "#acc_values = history_dict['accuracy']\n",
        "#val_acc_values = history_dict['val_accuracy']\n",
        "\n",
        "plt.plot(epochs, lessunits_model_history_accuracy, 'bo', label='Training acc')\n",
        "plt.plot(epochs, lessunits_model_history_val_accuracy, 'b', label='Validation acc')\n",
        "plt.title('Training and validation accuracy')\n",
        "plt.xlabel('Epochs')\n",
        "plt.ylabel('Loss')\n",
        "plt.legend()\n",
        "\n",
        "plt.show()\n"
      ],
      "execution_count": 24,
      "outputs": [
        {
          "output_type": "stream",
          "text": [
            "Epoch 1/20\n",
            "30/30 [==============================] - 2s 46ms/step - loss: 0.6060 - accuracy: 0.6934 - val_loss: 0.4219 - val_accuracy: 0.8522\n",
            "Epoch 2/20\n",
            "30/30 [==============================] - 1s 37ms/step - loss: 0.3584 - accuracy: 0.8909 - val_loss: 0.3271 - val_accuracy: 0.8846\n",
            "Epoch 3/20\n",
            "30/30 [==============================] - 1s 36ms/step - loss: 0.2602 - accuracy: 0.9237 - val_loss: 0.3127 - val_accuracy: 0.8750\n",
            "Epoch 4/20\n",
            "30/30 [==============================] - 1s 36ms/step - loss: 0.2062 - accuracy: 0.9354 - val_loss: 0.2854 - val_accuracy: 0.8861\n",
            "Epoch 5/20\n",
            "30/30 [==============================] - 1s 36ms/step - loss: 0.1660 - accuracy: 0.9489 - val_loss: 0.2770 - val_accuracy: 0.8892\n",
            "Epoch 6/20\n",
            "30/30 [==============================] - 1s 37ms/step - loss: 0.1414 - accuracy: 0.9578 - val_loss: 0.2848 - val_accuracy: 0.8871\n",
            "Epoch 7/20\n",
            "30/30 [==============================] - 1s 35ms/step - loss: 0.1162 - accuracy: 0.9673 - val_loss: 0.2881 - val_accuracy: 0.8866\n",
            "Epoch 8/20\n",
            "30/30 [==============================] - 1s 36ms/step - loss: 0.1053 - accuracy: 0.9699 - val_loss: 0.3009 - val_accuracy: 0.8847\n",
            "Epoch 9/20\n",
            "30/30 [==============================] - 1s 36ms/step - loss: 0.0828 - accuracy: 0.9805 - val_loss: 0.3480 - val_accuracy: 0.8762\n",
            "Epoch 10/20\n",
            "30/30 [==============================] - 1s 37ms/step - loss: 0.0720 - accuracy: 0.9820 - val_loss: 0.3327 - val_accuracy: 0.8820\n",
            "Epoch 11/20\n",
            "30/30 [==============================] - 1s 35ms/step - loss: 0.0604 - accuracy: 0.9845 - val_loss: 0.3683 - val_accuracy: 0.8766\n",
            "Epoch 12/20\n",
            "30/30 [==============================] - 1s 38ms/step - loss: 0.0539 - accuracy: 0.9878 - val_loss: 0.3798 - val_accuracy: 0.8779\n",
            "Epoch 13/20\n",
            "30/30 [==============================] - 1s 36ms/step - loss: 0.0455 - accuracy: 0.9903 - val_loss: 0.3979 - val_accuracy: 0.8769\n",
            "Epoch 14/20\n",
            "30/30 [==============================] - 1s 37ms/step - loss: 0.0366 - accuracy: 0.9925 - val_loss: 0.4335 - val_accuracy: 0.8748\n",
            "Epoch 15/20\n",
            "30/30 [==============================] - 1s 36ms/step - loss: 0.0296 - accuracy: 0.9957 - val_loss: 0.4502 - val_accuracy: 0.8723\n",
            "Epoch 16/20\n",
            "30/30 [==============================] - 1s 37ms/step - loss: 0.0253 - accuracy: 0.9964 - val_loss: 0.4790 - val_accuracy: 0.8715\n",
            "Epoch 17/20\n",
            "30/30 [==============================] - 1s 36ms/step - loss: 0.0211 - accuracy: 0.9973 - val_loss: 0.5149 - val_accuracy: 0.8718\n",
            "Epoch 18/20\n",
            "30/30 [==============================] - 1s 37ms/step - loss: 0.0159 - accuracy: 0.9986 - val_loss: 0.5413 - val_accuracy: 0.8670\n",
            "Epoch 19/20\n",
            "30/30 [==============================] - 1s 36ms/step - loss: 0.0130 - accuracy: 0.9988 - val_loss: 0.5787 - val_accuracy: 0.8677\n",
            "Epoch 20/20\n",
            "30/30 [==============================] - 1s 37ms/step - loss: 0.0107 - accuracy: 0.9995 - val_loss: 0.6075 - val_accuracy: 0.8646\n"
          ],
          "name": "stdout"
        },
        {
          "output_type": "display_data",
          "data": {
            "image/png": "[encoded data removed]",
            "text/plain": [
              "<Figure size 432x288 with 1 Axes>"
            ]
          },
          "metadata": {
            "tags": [],
            "needs_background": "light"
          }
        },
        {
          "output_type": "display_data",
          "data": {
            "image/png": "[encoded data removed]",
            "text/plain": [
              "<Figure size 432x288 with 1 Axes>"
            ]
          },
          "metadata": {
            "tags": [],
            "needs_background": "light"
          }
        }
      ]
    },
    {
      "cell_type": "markdown",
      "metadata": {
        "id": "1BV_IH9KNiKh"
      },
      "source": [
        "Observations:-\n",
        "* Afer reducing the units , we can see some change in the results of the charts for accuracy and loss.\n",
        "* As per the results ,It seems that with the increase in the epochs the difference in the loss for training and validation has increased, however accuracy seems to be improved.\n",
        "* At Epoch 5 , the difference starts to increase. Lets retarin the model with epoch=5 and validate the results.\n",
        "\n",
        "\n"
      ]
    },
    {
      "cell_type": "code",
      "metadata": {
        "colab": {
          "base_uri": "https://localhost:8080/"
        },
        "id": "wViTa3byApGt",
        "outputId": "ec6231e5-e538-4a50-e512-c6f3ec1acda1"
      },
      "source": [
        "#Retraining the LessUnit_Model with 5 Epochs\n",
        "tf.random.set_seed(13)\n",
        "\n",
        "lessunits_model = models.Sequential()\n",
        "lessunits_model.add(layers.Dense(16, activation='relu', input_shape=(10000,)))\n",
        "lessunits_model.add(layers.Dense(16, activation='relu'))\n",
        "lessunits_model.add(layers.Dense(1, activation='sigmoid'))\n",
        "\n",
        "lessunits_model.compile(optimizer='rmsprop',\n",
        "              loss='binary_crossentropy',\n",
        "              metrics=['accuracy'])\n",
        "\n",
        "lessunits_model.fit(x_train, y_train, epochs=5, batch_size=512)\n",
        "lessunits_model_results = lessunits_model.evaluate(x_test, y_test)\n",
        "\n",
        "print(lessunits_model_results)\n",
        "\n",
        "lessunits_model.predict(x_test)"
      ],
      "execution_count": null,
      "outputs": [
        {
          "output_type": "stream",
          "text": [
            "Epoch 1/5\n"
          ],
          "name": "stdout"
        }
      ]
    },
    {
      "cell_type": "markdown",
      "metadata": {
        "id": "L1px7e0xPSOV"
      },
      "source": [
        "Oberservations:\n",
        "loss function=31% accuracy=87.9%\n",
        "\n",
        "This model has not improved the performance.\n"
      ]
    },
    {
      "cell_type": "code",
      "metadata": {
        "id": "aFFLDmKtuMY9"
      },
      "source": [
        "#Model 7 = more nodes\n",
        "#Building Network\n",
        "import tensorflow as tf\n",
        "\n",
        "tf.random.set_seed(27)\n",
        "\n",
        "from keras import models\n",
        "from keras import layers\n",
        "\n",
        "moreunits_model = models.Sequential()\n",
        "moreunits_model.add(layers.Dense(32, activation='relu', input_shape=(10000,)))\n",
        "moreunits_model.add(layers.Dense(32, activation='relu'))\n",
        "moreunits_model.add(layers.Dense(1, activation='sigmoid'))\n",
        "\n",
        "# Configure Model: with the rmsprop optimizer and the binary_crossentropy loss function. \n",
        "\n",
        "moreunits_model.compile(optimizer='rmsprop',\n",
        "              loss='binary_crossentropy',\n",
        "              metrics=['accuracy'])\n",
        "\n",
        "\n",
        "\n",
        "#Creating Validation Set:setting apart 10,000 samples from the original training data:\n",
        "\n",
        "#x_val = x_train[:10000]\n",
        "#partial_x_train = x_train[10000:]\n",
        "\n",
        "#y_val = y_train[:10000]\n",
        "#partial_y_train = y_train[10000:]\n",
        "\n",
        "#Training the Model\n",
        "moreunits_model_history = lessunits_model.fit(partial_x_train,\n",
        "                    partial_y_train,\n",
        "                    epochs=20,\n",
        "                    batch_size=512,\n",
        "                    validation_data=(x_val, y_val))\n",
        "\n",
        "moreunits_model_history_dict = moreunits_model_history.history\n",
        "moreunits_model_history_dict.keys()\n",
        "\n",
        "# Plot the training and validation loss side by side, as well as the training and validation accuracy:\n",
        "\n",
        "import matplotlib.pyplot as plt\n",
        "\n",
        "moreunits_model_history_accuracy = moreunits_model_history.history['accuracy']\n",
        "moreunits_model_history_val_accuracy = moreunits_model_history.history['val_accuracy']\n",
        "moreunits_model_history_loss = moreunits_model_history.history['loss']\n",
        "moreunits_model_history_val_loss = moreunits_model_history.history['val_loss']\n",
        "\n",
        "epochs = range(1, len(moreunits_model_history_accuracy) + 1)\n",
        "\n",
        "# \"bo\" is for \"blue dot\"\n",
        "plt.plot(epochs, moreunits_model_history_loss, 'bo', label='Training loss')\n",
        "# b is for \"solid blue line\"\n",
        "plt.plot(epochs, moreunits_model_history_val_loss, 'b', label='Validation loss')\n",
        "plt.title('Training and validation loss')\n",
        "plt.xlabel('Epochs')\n",
        "plt.ylabel('Loss')\n",
        "plt.legend()\n",
        "\n",
        "plt.show()\n",
        "\n",
        "plt.clf()   # clear figure\n",
        "#acc_values = history_dict['accuracy']\n",
        "#val_acc_values = history_dict['val_accuracy']\n",
        "\n",
        "plt.plot(epochs, moreunits_model_history_accuracy, 'bo', label='Training acc')\n",
        "plt.plot(epochs, moreunits_model_history_val_accuracy, 'b', label='Validation acc')\n",
        "plt.title('Training and validation accuracy')\n",
        "plt.xlabel('Epochs')\n",
        "plt.ylabel('Loss')\n",
        "plt.legend()\n",
        "\n",
        "plt.show()"
      ],
      "execution_count": null,
      "outputs": []
    },
    {
      "cell_type": "markdown",
      "metadata": {
        "id": "p-s_tg5LU-Ta"
      },
      "source": [
        "Lets try with Epoch=4 to retrain the model."
      ]
    },
    {
      "cell_type": "code",
      "metadata": {
        "id": "pw5QzLQdvGK7"
      },
      "source": [
        "#Retraining the moreunit_Model with 4 Epochs\n",
        "tf.random.set_seed(13)\n",
        "\n",
        "moreunits_model = models.Sequential()\n",
        "moreunits_model.add(layers.Dense(32, activation='relu', input_shape=(10000,)))\n",
        "moreunits_model.add(layers.Dense(32, activation='relu'))\n",
        "moreunits_model.add(layers.Dense(1, activation='sigmoid'))\n",
        "\n",
        "moreunits_model.compile(optimizer='rmsprop',\n",
        "              loss='binary_crossentropy',\n",
        "              metrics=['accuracy'])\n",
        "\n",
        "moreunits_model.fit(x_train, y_train, epochs=4, batch_size=512)\n",
        "moreunits_model_results = lessunits_model.evaluate(x_test, y_test)\n",
        "\n",
        "print(moreunits_model_results)\n",
        "\n",
        "moreunits_model.predict(x_test)"
      ],
      "execution_count": null,
      "outputs": []
    },
    {
      "cell_type": "markdown",
      "metadata": {
        "id": "KU4vsIYWP2Qe"
      },
      "source": [
        "Observations:-\n",
        "\n",
        "* the average loss is 95% and accuracy is 84.73%.If we compare the results from the original retrained model it was 29% loss and 88.49% accuracy.\n",
        "\n",
        "* As per the result we dont find much difference in the performance of the model.\n",
        "\n",
        "Let's try to use MSE loss function instead of binary_crossentropy loss function and check results ."
      ]
    },
    {
      "cell_type": "code",
      "metadata": {
        "id": "LGmZ8Ff9mIo_"
      },
      "source": [
        "#Model 5 = MSE loss function\n",
        "\n",
        "#Building the network\n",
        "from keras import models\n",
        "from keras import layers\n",
        "tf.random.set_seed(14)\n",
        "\n",
        "mse_model = models.Sequential()\n",
        "mse_model.add(layers.Dense(16, activation='relu', input_shape=(10000,)))\n",
        "mse_model.add(layers.Dense(16, activation='relu'))\n",
        "mse_model.add(layers.Dense(1, activation='sigmoid'))\n",
        "\n",
        "\n",
        "\n",
        "# Configure Model: with the rmsprop optimizer and the binary_crossentropy loss function. \n",
        "\n",
        "mse_model.compile(optimizer='rmsprop',\n",
        "              loss='mean_squared_error',\n",
        "              metrics=['accuracy'])\n",
        "\n",
        "\n",
        "\n",
        "#Creating Validation Set:setting apart 10,000 samples from the original training data:\n",
        "\n",
        "#x_val = x_train[:10000]\n",
        "#partial_x_train = x_train[10000:]\n",
        "\n",
        "#y_val = y_train[:10000]\n",
        "#partial_y_train = y_train[10000:]\n",
        "\n",
        "#Train the Model\n",
        "mse_model_history = mse_model.fit(partial_x_train,\n",
        "                    partial_y_train,\n",
        "                    epochs=20,\n",
        "                    batch_size=512,\n",
        "                    validation_data=(x_val, y_val))\n",
        "\n",
        "mse_model_history_dict = mse_model_history.history\n",
        "mse_model_history_dict.keys()\n",
        "\n",
        "#Plot the training and validation loss side by side, as well as the training and validation accuracy:\n",
        "\n",
        "import matplotlib.pyplot as plt\n",
        "\n",
        "mse_model_history_accuracy = mse_model_history.history['accuracy']\n",
        "mse_model_history_val_accuracy = mse_model_history.history['val_accuracy']\n",
        "mse_model_history_loss = mse_model_history.history['loss']\n",
        "mse_model_history_val_loss = mse_model_history.history['val_loss']\n",
        "\n",
        "epochs = range(1, len(mse_model_history_accuracy) + 1)\n",
        "\n",
        "# \"bo\" is for \"blue dot\"\n",
        "plt.plot(epochs, mse_model_history_loss, 'bo', label='Training loss')\n",
        "# b is for \"solid blue line\"\n",
        "plt.plot(epochs, mse_model_history_val_loss, 'b', label='Validation loss')\n",
        "plt.title('Training and validation loss')\n",
        "plt.xlabel('Epochs')\n",
        "plt.ylabel('Loss')\n",
        "plt.legend()\n",
        "\n",
        "plt.show()\n",
        "\n",
        "plt.clf()   # clear figure\n",
        "#acc_values = history_dict['accuracy']\n",
        "#val_acc_values = history_dict['val_accuracy']\n",
        "\n",
        "plt.plot(epochs, mse_model_history_accuracy, 'bo', label='Training acc')\n",
        "plt.plot(epochs, mse_model_history_val_accuracy, 'b', label='Validation acc')\n",
        "plt.title('Training and validation accuracy')\n",
        "plt.xlabel('Epochs')\n",
        "plt.ylabel('Loss')\n",
        "plt.legend()\n",
        "\n",
        "plt.show()\n"
      ],
      "execution_count": null,
      "outputs": []
    },
    {
      "cell_type": "markdown",
      "metadata": {
        "id": "DZVzvvZLpku2"
      },
      "source": [
        "\n",
        "Observations:-\n",
        "\n",
        "It seems that Accuracy and loss are not any good on validation as compared to Training.\n",
        "\n",
        "However after epoch 5 the difference is getting in the chart.\n",
        "\n",
        "Let's retrained the model with epoch =4 and check the results :-"
      ]
    },
    {
      "cell_type": "markdown",
      "metadata": {
        "id": "HllJqDztphBI"
      },
      "source": [
        "https://machinelearningmastery.com/how-to-choose-loss-functions-when-training-deep-learning-neural-networks/\n",
        "Binary Cross-Entropy Loss\n",
        "Cross-entropy is the default loss function to use for binary classification problems.\n",
        "It is intended for use with binary classification where the target values are in the set {0, 1}.\n",
        "Mathematically, it is the preferred loss function under the inference framework of maximum likelihood. It is the loss function to be evaluated first and only changed if you have a good reason.\n",
        "Cross-entropy will calculate a score that summarizes the average difference between the actual and predicted probability distributions for predicting class 1. The score is minimized and a perfect cross-entropy value is 0.\n",
        "Cross-entropy can be specified as the loss function in Keras by specifying ‘binary_crossentropy‘ when compiling the model.\n",
        "Mean Squared Error Loss\n",
        "The Mean Squared Error, or MSE, loss is the default loss to use for regression problems.\n",
        "Mathematically, it is the preferred loss function under the inference framework of maximum likelihood if the distribution of the target variable is Gaussian. It is the loss function to be evaluated first and only changed if you have a good reason.\n",
        "Mean squared error is calculated as the average of the squared differences between the predicted and actual values. The result is always positive regardless of the sign of the predicted and actual values and a perfect value is 0.0. The squaring means that larger mistakes result in more error than smaller mistakes, meaning that the model is punished for making larger mistakes.\n",
        "The mean squared error loss function can be used in Keras by specifying ‘mse‘ or ‘mean_squared_error‘ as the loss function when compiling the model.\n"
      ]
    },
    {
      "cell_type": "code",
      "metadata": {
        "id": "Wh6uwxUSCcw_"
      },
      "source": [
        "#Retraining the MSE Model \n",
        "tf.random.set_seed(15)\n",
        "\n",
        "mse_model = models.Sequential()\n",
        "mse_model.add(layers.Dense(16, activation='relu', input_shape=(10000,)))\n",
        "mse_model.add(layers.Dense(16, activation='relu'))\n",
        "mse_model.add(layers.Dense(1, activation='sigmoid'))\n",
        "\n",
        "mse_model.compile(optimizer='rmsprop',\n",
        "              loss='mean_squared_error',\n",
        "              metrics=['accuracy'])\n",
        "\n",
        "mse_model.fit(x_train, y_train, epochs=4, batch_size=512)\n",
        "mse_model_results = mse_model.evaluate(x_test, y_test)\n",
        "\n",
        "print(mse_model_results)\n",
        "\n",
        "mse_model.predict(x_test)"
      ],
      "execution_count": null,
      "outputs": []
    },
    {
      "cell_type": "markdown",
      "metadata": {
        "id": "6p2C9C8Ebg-V"
      },
      "source": [
        "The use of MSE function has definately brought some changes in the result and perfromance . as we can see loss=9% and accuracy=87%.\n",
        "\n",
        "Let's try to use tanh activation function instead of relu activation function.\n",
        "\n",
        "Reference:https://www.aitude.com/comparison-of-sigmoid-tanh-and-relu-activation-functions/\n",
        "\n",
        "Tanh\n",
        "It is nonlinear in nature, so great we can stack layers! It is bound to range (-1, 1) so no worries of activations blowing up. One point to mention is that the gradient is stronger for tanh than sigmoid ( derivatives are steeper). Deciding between the sigmoid or tanh will depend on your requirement of gradient strength. Like sigmoid, tanh also has the vanishing gradient problem.\n",
        "Tanh is also a very popular and widely used activation function.\n",
        "\n",
        "\n",
        "ReLu is less computationally expensive than tanh and sigmoid because it involves simpler mathematical operations. That is a good point to consider when we are designing deep neural nets.\n",
        "Another point that I would like to discuss here is the sparsity of the activation. Imagine a big neural network with a lot of neurons. Using a sigmoid or tanh will cause almost all neurons to fire in an analog way ( remember? ). That means almost all activations will be processed to describe the output of a network. In other words the activation is dense. This is costly. We would ideally want a few neurons in the network to not activate and thereby making the activations sparse and efficient."
      ]
    },
    {
      "cell_type": "code",
      "metadata": {
        "id": "pgK79XmWELy2"
      },
      "source": [
        "#Model 6 =tanh\n",
        "#Buidling the Network\n",
        "from keras import models\n",
        "from keras import layers\n",
        "tf.random.set_seed(16)\n",
        "\n",
        "tanh_model = models.Sequential()\n",
        "tanh_model.add(layers.Dense(16, activation='tanh', input_shape=(10000,)))\n",
        "tanh_model.add(layers.Dense(16, activation='tanh'))\n",
        "tanh_model.add(layers.Dense(1, activation='sigmoid'))\n",
        "\n",
        "# Configure Model: with the rmsprop optimizer and the binary_crossentropy loss function. \n",
        "\n",
        "tanh_model.compile(optimizer='rmsprop',\n",
        "              loss='binary_crossentropy',\n",
        "              metrics=['accuracy'])\n",
        "\n",
        "\n",
        "\n",
        "#Creating Validation Set:setting apart 10,000 samples from the original training data:\n",
        "\n",
        "#x_val = x_train[:10000]\n",
        "#partial_x_train = x_train[10000:]\n",
        "\n",
        "#y_val = y_train[:10000]\n",
        "#partial_y_train = y_train[10000:]\n",
        "\n",
        "# Training the Model\n",
        "tanh_model_history = tanh_model.fit(partial_x_train,\n",
        "                    partial_y_train,\n",
        "                    epochs=20,\n",
        "                    batch_size=512,\n",
        "                    validation_data=(x_val, y_val))\n",
        "\n",
        "tanh_model_history_dict = tanh_model_history.history\n",
        "tanh_model_history_dict.keys()\n",
        "\n",
        "#Plot the training and validation loss side by side, as well as the training and validation accuracy:\n",
        "\n",
        "import matplotlib.pyplot as plt\n",
        "\n",
        "tanh_model_history_accuracy = tanh_model_history.history['accuracy']\n",
        "tanh_model_history_val_accuracy = tanh_model_history.history['val_accuracy']\n",
        "tanh_model_history_loss = tanh_model_history.history['loss']\n",
        "tanh_model_history_val_loss = tanh_model_history.history['val_loss']\n",
        "\n",
        "epochs = range(1, len(tanh_model_history_accuracy) + 1)\n",
        "\n",
        "# \"bo\" is for \"blue dot\"\n",
        "plt.plot(epochs, tanh_model_history_loss, 'bo', label='Training loss')\n",
        "# b is for \"solid blue line\"\n",
        "plt.plot(epochs, tanh_model_history_val_loss, 'b', label='Validation loss')\n",
        "plt.title('Training and validation loss')\n",
        "plt.xlabel('Epochs')\n",
        "plt.ylabel('Loss')\n",
        "plt.legend()\n",
        "\n",
        "plt.show()\n",
        "\n",
        "plt.clf()   # clear figure\n",
        "#acc_values = history_dict['accuracy']\n",
        "#val_acc_values = history_dict['val_accuracy']\n",
        "\n",
        "plt.plot(epochs, tanh_model_history_accuracy, 'bo', label='Training acc')\n",
        "plt.plot(epochs, tanh_model_history_val_accuracy, 'b', label='Validation acc')\n",
        "plt.title('Training and validation accuracy')\n",
        "plt.xlabel('Epochs')\n",
        "plt.ylabel('Loss')\n",
        "plt.legend()\n",
        "\n",
        "plt.show()\n"
      ],
      "execution_count": null,
      "outputs": []
    },
    {
      "cell_type": "markdown",
      "metadata": {
        "id": "X6-zBhXdSOgm"
      },
      "source": [
        "Observations:-\n",
        "* This approach with 20 Epoch seems to be not working. Well, lets try to retrain the model with epoch=5 and validate the results."
      ]
    },
    {
      "cell_type": "code",
      "metadata": {
        "id": "jL84P8f-E4dg"
      },
      "source": [
        "# Retraining the tanh Model with 3 Epochs\n",
        "tf.random.set_seed(17)\n",
        "print(orig_result)\n",
        "tanh_model = models.Sequential()\n",
        "tanh_model.add(layers.Dense(16, activation='relu', input_shape=(10000,)))\n",
        "tanh_model.add(layers.Dense(16, activation='relu'))\n",
        "tanh_model.add(layers.Dense(1, activation='sigmoid'))\n",
        "\n",
        "tanh_model.compile(optimizer='rmsprop',\n",
        "              loss='binary_crossentropy',\n",
        "              metrics=['accuracy'])\n",
        "\n",
        "tanh_model.fit(x_train, y_train, epochs=3, batch_size=512)\n",
        "tanh_model_results = tanh_model.evaluate(x_test, y_test)\n",
        "\n",
        "print(tanh_model_results)\n",
        "\n",
        "tanh_model.predict(x_test)"
      ],
      "execution_count": null,
      "outputs": []
    },
    {
      "cell_type": "markdown",
      "metadata": {
        "id": "22zzVr2dGQFS"
      },
      "source": [
        "Observations"
      ]
    },
    {
      "cell_type": "code",
      "metadata": {
        "id": "75B4cb5qgKKh"
      },
      "source": [
        "\n",
        "plt.plot(epochs, orig_results[0], 'bo', label='Training acc')\n",
        "plt.plot(epochs, orig_results[0], 'b', label='Validation acc')\n",
        "plt.title('Training and validation accuracy')\n",
        "plt.xlabel('Epochs')\n",
        "plt.ylabel('Loss')\n",
        "plt.legend()\n",
        "\n",
        "plt.show()"
      ],
      "execution_count": null,
      "outputs": []
    },
    {
      "cell_type": "markdown",
      "metadata": {
        "id": "A3S6SFP7mAJf"
      },
      "source": [
        "Conclusion\n"
      ]
    },
    {
      "cell_type": "markdown",
      "metadata": {
        "id": "hCQPB-fePAtC"
      },
      "source": [
        "Model performance\n",
        "To improve the performance of the model I am using  weight regularisation method.\n",
        "A \"simple model\" in this context is a model where the distribution of parameter values has less entropy (or a model with fewer parameters altogether, as we saw in the section above). Thus a common way to mitigate overfitting is to put constraints on the complexity of a network by forcing its weights to only take small values, which makes the distribution of weight values more \"regular\". This is called \"weight regularization\", and it is done by adding to the loss function of the network a cost associated with having large weights. This cost comes in two flavors:\n",
        "\n",
        "L1 regularization, where the cost added is proportional to the absolute value of the weights coefficients (i.e. to what is called the \"L1 norm\" of the weights).\n",
        "L2 regularization, where the cost added is proportional to the square of the value of the weights coefficients (i.e. to what is called the \"L2 norm\" of the weights). L2 regularization is also called weight decay in the context of neural networks. Don't let the different name confuse you: weight decay is mathematically the exact same as L2 regularization.\n",
        "In Keras, weight regularization is added by passing weight regularizer instances to layers as keyword arguments. Let's add L2 weight regularization to our movie review classification network:"
      ]
    },
    {
      "cell_type": "code",
      "metadata": {
        "id": "MvPz8dFVPTIo"
      },
      "source": [
        "from keras import regularizers\n",
        "tf.random.set_seed(18)\n",
        "l2_model = models.Sequential()\n",
        "l2_model.add(layers.Dense(16, kernel_regularizer=regularizers.l2(0.001),\n",
        "                          activation='relu', input_shape=(10000,)))\n",
        "l2_model.add(layers.Dense(16, kernel_regularizer=regularizers.l2(0.001),\n",
        "                          activation='relu'))\n",
        "l2_model.add(layers.Dense(1, activation='sigmoid'))\n",
        "\n",
        "l2_model.compile(optimizer='rmsprop',\n",
        "                 loss='binary_crossentropy',\n",
        "                 metrics=['acc'])\n",
        "\n",
        "l2_model_hist = l2_model.fit(partial_x_train,\n",
        "                    partial_y_train,\n",
        "                    epochs=20,\n",
        "                    batch_size=512,\n",
        "                    validation_data=(x_val, y_val))\n",
        "\n",
        "\n",
        "\n",
        "l2_model_hist_dict = l2_model_hist.history\n",
        "print(l2_model_hist_dict.keys())\n",
        "\n",
        "#Plot the training and validation loss side by side, as well as the training and validation accuracy:\n",
        "\n",
        "import matplotlib.pyplot as plt\n",
        "\n",
        "l2_model_hist_accuracy = l2_model_hist.history['acc']\n",
        "l2_model_hist_val_accuracy = l2_model_hist.history['val_acc']\n",
        "l2_model_hist_loss = l2_model_hist.history['loss']\n",
        "l2_model_hist_val_loss = l2_model_hist.history['val_loss']\n",
        "\n",
        "epochs = range(1, len(l2_model_hist_accuracy) + 1)\n",
        "\n",
        "\n",
        "# \"bo\" is for \"blue dot\"\n",
        "plt.plot(epochs, orig_val_loss, 'bo', label='Training loss')\n",
        "# b is for \"solid blue line\"\n",
        "plt.plot(epochs, l2_model_hist_val_loss, 'b', label='Validation loss')\n",
        "plt.title('Training and validation loss')\n",
        "plt.xlabel('Epochs')\n",
        "plt.ylabel('Loss')\n",
        "plt.legend()\n",
        "\n",
        "plt.show()\n",
        "\n",
        "plt.clf()   # clear figure\n",
        "#acc_values = history_dict['accuracy']\n",
        "#val_acc_values = history_dict['val_accuracy']\n",
        "\n",
        "#plt.plot(epochs, orig_val_accuracy, 'bo', label='Training acc')\n",
        "##plt.plot(epochs, l2_model_hist_val_accuracy, 'b', label='Validation acc')\n",
        "#plt.title('Training and validation accuracy')\n",
        "#plt.xlabel('Epochs')\n",
        "#plt.ylabel('Loss')\n",
        "##plt.legend()\n",
        "\n",
        "#plt.show()"
      ],
      "execution_count": null,
      "outputs": []
    },
    {
      "cell_type": "markdown",
      "metadata": {
        "id": "7jkOgAfwl1cm"
      },
      "source": [
        "Result:\n",
        "\n",
        "Dropout: \n",
        "A Simple Way to Prevent Neural Networks from Overfitting, 2014. Because the outputs of a layer under dropout are randomly subsampled, it has the effect of reducing the capacity or thinning the network during training. As such, a wider network, e.g. more nodes, may be required when using dropout."
      ]
    },
    {
      "cell_type": "code",
      "metadata": {
        "id": "4Hf8fW6uDKdt"
      },
      "source": [
        "# At training time: we drop out 50% of the units in the output\n",
        "\n",
        "tf.random.set_seed(21)\n",
        "\n",
        "dpt_model = models.Sequential()\n",
        "dpt_model.add(layers.Dense(16, activation='relu', input_shape=(10000,)))\n",
        "dpt_model.add(layers.Dropout(0.5))\n",
        "dpt_model.add(layers.Dense(16, activation='relu'))\n",
        "dpt_model.add(layers.Dropout(0.5))\n",
        "dpt_model.add(layers.Dense(1, activation='sigmoid'))\n",
        "\n",
        "dpt_model.compile(optimizer='rmsprop',\n",
        "                  loss='binary_crossentropy',\n",
        "                  metrics=['acc'])\n",
        "\n",
        "dpt_model_hist = dpt_model.fit(x_train, y_train,\n",
        "                               epochs=20,\n",
        "                               batch_size=512,\n",
        "                               validation_data=(x_test, y_test))\n",
        "\n",
        "dpt_model_val_loss = dpt_model_hist.history['val_loss']\n",
        "\n",
        "plt.plot(epochs, orig_val_loss, 'b+', label='Original model')\n",
        "plt.plot(epochs, dpt_model_val_loss, 'bo', label='Dropout-regularized model')\n",
        "plt.xlabel('Epochs')\n",
        "plt.ylabel('Validation loss')\n",
        "plt.legend()\n",
        "\n",
        "plt.show()\n",
        "\n",
        "plt.plot(epochs, orig_val_accuracy, 'bo', label='Training acc')\n",
        "plt.plot(epochs, l2_model_hist_val_accuracy, 'b', label='Validation acc')\n",
        "plt.title('Training and validation accuracy')\n",
        "plt.xlabel('Epochs')\n",
        "plt.ylabel('Loss')\n",
        "plt.legend()\n",
        "\n",
        "plt.show()"
      ],
      "execution_count": null,
      "outputs": []
    },
    {
      "cell_type": "markdown",
      "metadata": {
        "id": "guAiWbDdXxrm"
      },
      "source": [
        "This shows a real improvement  in the performance of the model."
      ]
    }
  ]
}